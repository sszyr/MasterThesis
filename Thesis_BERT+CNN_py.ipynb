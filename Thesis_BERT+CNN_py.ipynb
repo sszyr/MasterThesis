{
  "cells": [
    {
      "cell_type": "code",
      "execution_count": null,
      "metadata": {
        "colab": {
          "base_uri": "https://localhost:8080/"
        },
        "id": "XfwoueHTMxIB",
        "outputId": "c5e0beca-7d1c-4b48-e565-4176dd62274d"
      },
      "outputs": [
        {
          "output_type": "stream",
          "name": "stdout",
          "text": [
            "Collecting transformers==3.0.0\n",
            "  Downloading transformers-3.0.0-py3-none-any.whl (754 kB)\n",
            "\u001b[?25l\r\u001b[K     |▍                               | 10 kB 34.3 MB/s eta 0:00:01\r\u001b[K     |▉                               | 20 kB 19.4 MB/s eta 0:00:01\r\u001b[K     |█▎                              | 30 kB 10.7 MB/s eta 0:00:01\r\u001b[K     |█▊                              | 40 kB 8.4 MB/s eta 0:00:01\r\u001b[K     |██▏                             | 51 kB 5.0 MB/s eta 0:00:01\r\u001b[K     |██▋                             | 61 kB 5.3 MB/s eta 0:00:01\r\u001b[K     |███                             | 71 kB 5.3 MB/s eta 0:00:01\r\u001b[K     |███▌                            | 81 kB 6.0 MB/s eta 0:00:01\r\u001b[K     |████                            | 92 kB 6.1 MB/s eta 0:00:01\r\u001b[K     |████▍                           | 102 kB 5.1 MB/s eta 0:00:01\r\u001b[K     |████▊                           | 112 kB 5.1 MB/s eta 0:00:01\r\u001b[K     |█████▏                          | 122 kB 5.1 MB/s eta 0:00:01\r\u001b[K     |█████▋                          | 133 kB 5.1 MB/s eta 0:00:01\r\u001b[K     |██████                          | 143 kB 5.1 MB/s eta 0:00:01\r\u001b[K     |██████▌                         | 153 kB 5.1 MB/s eta 0:00:01\r\u001b[K     |███████                         | 163 kB 5.1 MB/s eta 0:00:01\r\u001b[K     |███████▍                        | 174 kB 5.1 MB/s eta 0:00:01\r\u001b[K     |███████▉                        | 184 kB 5.1 MB/s eta 0:00:01\r\u001b[K     |████████▎                       | 194 kB 5.1 MB/s eta 0:00:01\r\u001b[K     |████████▊                       | 204 kB 5.1 MB/s eta 0:00:01\r\u001b[K     |█████████▏                      | 215 kB 5.1 MB/s eta 0:00:01\r\u001b[K     |█████████▌                      | 225 kB 5.1 MB/s eta 0:00:01\r\u001b[K     |██████████                      | 235 kB 5.1 MB/s eta 0:00:01\r\u001b[K     |██████████▍                     | 245 kB 5.1 MB/s eta 0:00:01\r\u001b[K     |██████████▉                     | 256 kB 5.1 MB/s eta 0:00:01\r\u001b[K     |███████████▎                    | 266 kB 5.1 MB/s eta 0:00:01\r\u001b[K     |███████████▊                    | 276 kB 5.1 MB/s eta 0:00:01\r\u001b[K     |████████████▏                   | 286 kB 5.1 MB/s eta 0:00:01\r\u001b[K     |████████████▋                   | 296 kB 5.1 MB/s eta 0:00:01\r\u001b[K     |█████████████                   | 307 kB 5.1 MB/s eta 0:00:01\r\u001b[K     |█████████████▌                  | 317 kB 5.1 MB/s eta 0:00:01\r\u001b[K     |██████████████                  | 327 kB 5.1 MB/s eta 0:00:01\r\u001b[K     |██████████████▎                 | 337 kB 5.1 MB/s eta 0:00:01\r\u001b[K     |██████████████▊                 | 348 kB 5.1 MB/s eta 0:00:01\r\u001b[K     |███████████████▏                | 358 kB 5.1 MB/s eta 0:00:01\r\u001b[K     |███████████████▋                | 368 kB 5.1 MB/s eta 0:00:01\r\u001b[K     |████████████████                | 378 kB 5.1 MB/s eta 0:00:01\r\u001b[K     |████████████████▌               | 389 kB 5.1 MB/s eta 0:00:01\r\u001b[K     |█████████████████               | 399 kB 5.1 MB/s eta 0:00:01\r\u001b[K     |█████████████████▍              | 409 kB 5.1 MB/s eta 0:00:01\r\u001b[K     |█████████████████▉              | 419 kB 5.1 MB/s eta 0:00:01\r\u001b[K     |██████████████████▎             | 430 kB 5.1 MB/s eta 0:00:01\r\u001b[K     |██████████████████▊             | 440 kB 5.1 MB/s eta 0:00:01\r\u001b[K     |███████████████████             | 450 kB 5.1 MB/s eta 0:00:01\r\u001b[K     |███████████████████▌            | 460 kB 5.1 MB/s eta 0:00:01\r\u001b[K     |████████████████████            | 471 kB 5.1 MB/s eta 0:00:01\r\u001b[K     |████████████████████▍           | 481 kB 5.1 MB/s eta 0:00:01\r\u001b[K     |████████████████████▉           | 491 kB 5.1 MB/s eta 0:00:01\r\u001b[K     |█████████████████████▎          | 501 kB 5.1 MB/s eta 0:00:01\r\u001b[K     |█████████████████████▊          | 512 kB 5.1 MB/s eta 0:00:01\r\u001b[K     |██████████████████████▏         | 522 kB 5.1 MB/s eta 0:00:01\r\u001b[K     |██████████████████████▋         | 532 kB 5.1 MB/s eta 0:00:01\r\u001b[K     |███████████████████████         | 542 kB 5.1 MB/s eta 0:00:01\r\u001b[K     |███████████████████████▌        | 552 kB 5.1 MB/s eta 0:00:01\r\u001b[K     |███████████████████████▉        | 563 kB 5.1 MB/s eta 0:00:01\r\u001b[K     |████████████████████████▎       | 573 kB 5.1 MB/s eta 0:00:01\r\u001b[K     |████████████████████████▊       | 583 kB 5.1 MB/s eta 0:00:01\r\u001b[K     |█████████████████████████▏      | 593 kB 5.1 MB/s eta 0:00:01\r\u001b[K     |█████████████████████████▋      | 604 kB 5.1 MB/s eta 0:00:01\r\u001b[K     |██████████████████████████      | 614 kB 5.1 MB/s eta 0:00:01\r\u001b[K     |██████████████████████████▌     | 624 kB 5.1 MB/s eta 0:00:01\r\u001b[K     |███████████████████████████     | 634 kB 5.1 MB/s eta 0:00:01\r\u001b[K     |███████████████████████████▍    | 645 kB 5.1 MB/s eta 0:00:01\r\u001b[K     |███████████████████████████▉    | 655 kB 5.1 MB/s eta 0:00:01\r\u001b[K     |████████████████████████████▎   | 665 kB 5.1 MB/s eta 0:00:01\r\u001b[K     |████████████████████████████▋   | 675 kB 5.1 MB/s eta 0:00:01\r\u001b[K     |█████████████████████████████   | 686 kB 5.1 MB/s eta 0:00:01\r\u001b[K     |█████████████████████████████▌  | 696 kB 5.1 MB/s eta 0:00:01\r\u001b[K     |██████████████████████████████  | 706 kB 5.1 MB/s eta 0:00:01\r\u001b[K     |██████████████████████████████▍ | 716 kB 5.1 MB/s eta 0:00:01\r\u001b[K     |██████████████████████████████▉ | 727 kB 5.1 MB/s eta 0:00:01\r\u001b[K     |███████████████████████████████▎| 737 kB 5.1 MB/s eta 0:00:01\r\u001b[K     |███████████████████████████████▊| 747 kB 5.1 MB/s eta 0:00:01\r\u001b[K     |████████████████████████████████| 754 kB 5.1 MB/s \n",
            "\u001b[?25hRequirement already satisfied: requests in /usr/local/lib/python3.7/dist-packages (from transformers==3.0.0) (2.23.0)\n",
            "Collecting sentencepiece\n",
            "  Downloading sentencepiece-0.1.96-cp37-cp37m-manylinux_2_17_x86_64.manylinux2014_x86_64.whl (1.2 MB)\n",
            "\u001b[K     |████████████████████████████████| 1.2 MB 51.0 MB/s \n",
            "\u001b[?25hRequirement already satisfied: tqdm>=4.27 in /usr/local/lib/python3.7/dist-packages (from transformers==3.0.0) (4.62.3)\n",
            "Requirement already satisfied: numpy in /usr/local/lib/python3.7/dist-packages (from transformers==3.0.0) (1.19.5)\n",
            "Collecting sacremoses\n",
            "  Downloading sacremoses-0.0.47-py2.py3-none-any.whl (895 kB)\n",
            "\u001b[K     |████████████████████████████████| 895 kB 61.0 MB/s \n",
            "\u001b[?25hCollecting tokenizers==0.8.0-rc4\n",
            "  Downloading tokenizers-0.8.0rc4-cp37-cp37m-manylinux1_x86_64.whl (3.0 MB)\n",
            "\u001b[K     |████████████████████████████████| 3.0 MB 40.1 MB/s \n",
            "\u001b[?25hRequirement already satisfied: filelock in /usr/local/lib/python3.7/dist-packages (from transformers==3.0.0) (3.4.2)\n",
            "Requirement already satisfied: regex!=2019.12.17 in /usr/local/lib/python3.7/dist-packages (from transformers==3.0.0) (2019.12.20)\n",
            "Requirement already satisfied: packaging in /usr/local/lib/python3.7/dist-packages (from transformers==3.0.0) (21.3)\n",
            "Requirement already satisfied: pyparsing!=3.0.5,>=2.0.2 in /usr/local/lib/python3.7/dist-packages (from packaging->transformers==3.0.0) (3.0.6)\n",
            "Requirement already satisfied: idna<3,>=2.5 in /usr/local/lib/python3.7/dist-packages (from requests->transformers==3.0.0) (2.10)\n",
            "Requirement already satisfied: chardet<4,>=3.0.2 in /usr/local/lib/python3.7/dist-packages (from requests->transformers==3.0.0) (3.0.4)\n",
            "Requirement already satisfied: urllib3!=1.25.0,!=1.25.1,<1.26,>=1.21.1 in /usr/local/lib/python3.7/dist-packages (from requests->transformers==3.0.0) (1.24.3)\n",
            "Requirement already satisfied: certifi>=2017.4.17 in /usr/local/lib/python3.7/dist-packages (from requests->transformers==3.0.0) (2021.10.8)\n",
            "Requirement already satisfied: six in /usr/local/lib/python3.7/dist-packages (from sacremoses->transformers==3.0.0) (1.15.0)\n",
            "Requirement already satisfied: joblib in /usr/local/lib/python3.7/dist-packages (from sacremoses->transformers==3.0.0) (1.1.0)\n",
            "Requirement already satisfied: click in /usr/local/lib/python3.7/dist-packages (from sacremoses->transformers==3.0.0) (7.1.2)\n",
            "Installing collected packages: tokenizers, sentencepiece, sacremoses, transformers\n",
            "Successfully installed sacremoses-0.0.47 sentencepiece-0.1.96 tokenizers-0.8.0rc4 transformers-3.0.0\n"
          ]
        }
      ],
      "source": [
        "!pip install transformers==3.0.0\n",
        "import gc \n",
        "import re \n",
        "import numpy as np \n",
        "import pandas as pd \n",
        "import torch \n",
        "import torch.nn as nn \n",
        "from sklearn.model_selection import train_test_split \n",
        "from sklearn.metrics import classification_report, accuracy_score\n",
        "from transformers import AutoModel, BertModel, BertTokenizer"
      ]
    },
    {
      "cell_type": "code",
      "execution_count": null,
      "metadata": {
        "id": "EB0qUPy6ozBI",
        "colab": {
          "base_uri": "https://localhost:8080/"
        },
        "outputId": "6b3c49cd-b1d0-4c6c-bf99-7bc2b8f314ca"
      },
      "outputs": [
        {
          "output_type": "stream",
          "name": "stdout",
          "text": [
            "Collecting ipython-autotime\n",
            "  Downloading ipython_autotime-0.3.1-py2.py3-none-any.whl (6.8 kB)\n",
            "Requirement already satisfied: ipython in /usr/local/lib/python3.7/dist-packages (from ipython-autotime) (5.5.0)\n",
            "Requirement already satisfied: traitlets>=4.2 in /usr/local/lib/python3.7/dist-packages (from ipython->ipython-autotime) (5.1.1)\n",
            "Requirement already satisfied: pexpect in /usr/local/lib/python3.7/dist-packages (from ipython->ipython-autotime) (4.8.0)\n",
            "Requirement already satisfied: pygments in /usr/local/lib/python3.7/dist-packages (from ipython->ipython-autotime) (2.6.1)\n",
            "Requirement already satisfied: prompt-toolkit<2.0.0,>=1.0.4 in /usr/local/lib/python3.7/dist-packages (from ipython->ipython-autotime) (1.0.18)\n",
            "Requirement already satisfied: decorator in /usr/local/lib/python3.7/dist-packages (from ipython->ipython-autotime) (4.4.2)\n",
            "Requirement already satisfied: setuptools>=18.5 in /usr/local/lib/python3.7/dist-packages (from ipython->ipython-autotime) (57.4.0)\n",
            "Requirement already satisfied: simplegeneric>0.8 in /usr/local/lib/python3.7/dist-packages (from ipython->ipython-autotime) (0.8.1)\n",
            "Requirement already satisfied: pickleshare in /usr/local/lib/python3.7/dist-packages (from ipython->ipython-autotime) (0.7.5)\n",
            "Requirement already satisfied: wcwidth in /usr/local/lib/python3.7/dist-packages (from prompt-toolkit<2.0.0,>=1.0.4->ipython->ipython-autotime) (0.2.5)\n",
            "Requirement already satisfied: six>=1.9.0 in /usr/local/lib/python3.7/dist-packages (from prompt-toolkit<2.0.0,>=1.0.4->ipython->ipython-autotime) (1.15.0)\n",
            "Requirement already satisfied: ptyprocess>=0.5 in /usr/local/lib/python3.7/dist-packages (from pexpect->ipython->ipython-autotime) (0.7.0)\n",
            "Installing collected packages: ipython-autotime\n",
            "Successfully installed ipython-autotime-0.3.1\n",
            "time: 192 µs (started: 2022-01-13 15:27:43 +00:00)\n"
          ]
        }
      ],
      "source": [
        "!pip install ipython-autotime\n",
        "%load_ext autotime\n"
      ]
    },
    {
      "cell_type": "code",
      "execution_count": null,
      "metadata": {
        "id": "GiL-sQFtNvfE",
        "colab": {
          "base_uri": "https://localhost:8080/"
        },
        "outputId": "c1ec6022-17a0-413d-8e37-1e16d1c7eda0"
      },
      "outputs": [
        {
          "output_type": "stream",
          "name": "stdout",
          "text": [
            "Mounted at /content/MyDrive\n",
            "time: 27min 37s (started: 2022-01-13 15:27:43 +00:00)\n"
          ]
        }
      ],
      "source": [
        "from google.colab import drive\n",
        "drive.mount(\"/content/MyDrive\")"
      ]
    },
    {
      "cell_type": "code",
      "execution_count": null,
      "metadata": {
        "id": "mJQv0Ni9FSUS",
        "colab": {
          "base_uri": "https://localhost:8080/"
        },
        "outputId": "f5781319-fc02-4f78-a1f7-765a8966fe41"
      },
      "outputs": [
        {
          "output_type": "stream",
          "name": "stdout",
          "text": [
            "time: 27.7 ms (started: 2022-01-13 16:11:12 +00:00)\n"
          ]
        }
      ],
      "source": [
        "######################\n",
        "## BERT + CNN MODEL ##\n",
        "######################\n",
        "\n",
        "\n",
        "class BERT_CNN (nn.Module):\n",
        "\n",
        "  def __init__(self, bert):\n",
        "    super(BERT_CNN, self).__init__()\n",
        "    self.bert = BertModel.from_pretrained(\"dbmdz/bert-base-turkish-cased\")\n",
        "    self.conv = nn.Conv2d(in_channels=12, out_channels=12, kernel_size=(3,768), padding=\"valid\") #change chanells if you change number of layers\n",
        "    self.relu = nn.ReLU()\n",
        "    self.pool = nn.MaxPool2d(kernel_size=(3,1), stride=1)\n",
        "    self.dropout = nn.Dropout(0.1)\n",
        "    # be careful here, this needs to be changed according to your max pooling\n",
        "    #without pooling: 443, with 3x1 pooling:416 for max len 50\n",
        "    #598 with max len 50 and 3x1 pooling\n",
        "    self.fc = nn.Linear(552, 3) #because the max_len is 50\n",
        "    self.flat = nn.Flatten()\n",
        "    self.softmax = nn.LogSoftmax(dim=1)\n",
        "\n",
        "  def forward(self, sent_id, mask):\n",
        "    _,_, all_layers = self.bert(sent_id, attention_mask=mask,\n",
        "                                output_hidden_states = True) \n",
        "    # all_layers = [13, 24, 50, 768]\n",
        "    # last 4 layers = [4, 24, 50, 768]\n",
        "    all_layers = all_layers[:-1]\n",
        "    \n",
        "    \n",
        "    x = torch.transpose(torch.cat(tuple([t.unsqueeze(0) for t in all_layers]),0),0,1)\n",
        "    \n",
        "    del all_layers \n",
        "    gc.collect()\n",
        "    torch.cuda.empty_cache()\n",
        "    x = self.pool(self.dropout(self.relu(self.conv(self.dropout(x)))))\n",
        "    \n",
        "    x = self.fc(self.dropout(self.flat(self.dropout(x))))\n",
        "    \n",
        "\n",
        "    return self.softmax(x)"
      ]
    },
    {
      "cell_type": "code",
      "execution_count": null,
      "metadata": {
        "id": "3ln1PESZQ2IV",
        "colab": {
          "base_uri": "https://localhost:8080/"
        },
        "outputId": "f950f076-7ffc-49d6-cba2-9a06a99edc3a"
      },
      "outputs": [
        {
          "output_type": "stream",
          "name": "stdout",
          "text": [
            "time: 794 ms (started: 2022-01-13 15:55:24 +00:00)\n"
          ]
        }
      ],
      "source": [
        "##################\n",
        "## READ DATASET ##\n",
        "##################\n",
        "import json\n",
        "train_path = \"/content/MyDrive/MyDrive/Data/train.json\"\n",
        "val_path = \"/content/MyDrive/MyDrive/Data/validation.json\"\n",
        "test_path = \"/content/MyDrive/MyDrive/Data/test.json\"\n",
        "device = \"cunda\"\n",
        "\n",
        "with open(train_path, \"r\") as f:\n",
        "  train = json.load(f)\n",
        "\n",
        "with open(val_path,\"r\") as f: \n",
        "  val = json.load(f)\n",
        "\n",
        "with open(test_path,\"r\") as f:\n",
        "  test = json.load(f)"
      ]
    },
    {
      "cell_type": "code",
      "execution_count": null,
      "metadata": {
        "id": "wt1kssZWlQvN",
        "colab": {
          "base_uri": "https://localhost:8080/"
        },
        "outputId": "0a0d2a43-b680-4a72-b5d0-b23770036e5c"
      },
      "outputs": [
        {
          "output_type": "stream",
          "name": "stdout",
          "text": [
            "time: 69.7 ms (started: 2022-01-13 15:55:26 +00:00)\n"
          ]
        }
      ],
      "source": [
        "train = pd.json_normalize(train)\n",
        "val = pd.json_normalize(val)\n",
        "test = pd.json_normalize(test)"
      ]
    },
    {
      "cell_type": "code",
      "execution_count": null,
      "metadata": {
        "id": "NlZRyDFom8Ho",
        "colab": {
          "base_uri": "https://localhost:8080/"
        },
        "outputId": "53a9a9cd-bc27-4e85-e1b7-7942382fb61f"
      },
      "outputs": [
        {
          "output_type": "stream",
          "name": "stdout",
          "text": [
            "time: 1.38 ms (started: 2022-01-13 15:55:27 +00:00)\n"
          ]
        }
      ],
      "source": [
        "def read_dataset(data):\n",
        "  print(len(data))\n",
        "  return data[\"sentence\"].tolist(), data[\"value\"]"
      ]
    },
    {
      "cell_type": "code",
      "execution_count": null,
      "metadata": {
        "id": "_odmZlqjRX-M",
        "colab": {
          "base_uri": "https://localhost:8080/"
        },
        "outputId": "cef6333a-db09-4b84-ce39-400da5b292fa"
      },
      "outputs": [
        {
          "output_type": "stream",
          "name": "stdout",
          "text": [
            "time: 13.4 ms (started: 2022-01-13 15:55:30 +00:00)\n"
          ]
        }
      ],
      "source": [
        "#############################################################\n",
        "## TOKENIZE AND GET THE INPUT IDS, ATTENTION MASKS, LABELS ##\n",
        "#############################################################\n",
        "\n",
        "mapping = {\"negative\": 0, \"neutral\":1, \"positive\":2}\n",
        "def data_process(data, labels):\n",
        "  input_ids = []\n",
        "  attention_mask = []\n",
        "  sentences = [el for el in data]\n",
        "  #sentences = [filter(i) for i in sentences]\n",
        "  y = [mapping[e] for e in labels] \n",
        "  tokenizer = BertTokenizer.from_pretrained(\"dbmdz/bert-base-turkish-cased\")\n",
        "\n",
        "  for sentence in sentences:\n",
        "    bert_inp = tokenizer.__call__(sentence, max_length= 50,\n",
        "                                  padding = \"max_length\",\n",
        "                                  pad_to_max_length=True,\n",
        "                                  truncation = True,\n",
        "                                  return_token_type_ids= False)\n",
        "    input_ids.append(bert_inp[\"input_ids\"])\n",
        "    attention_mask.append(bert_inp[\"attention_mask\"])\n",
        "\n",
        "  input_ids = np.asarray(input_ids)\n",
        "  attention_mask = np.array(attention_mask)\n",
        "  labels = np.array(y)\n",
        "  return input_ids, attention_mask, labels "
      ]
    },
    {
      "cell_type": "code",
      "execution_count": null,
      "metadata": {
        "id": "D3J-0uUznrl2",
        "colab": {
          "base_uri": "https://localhost:8080/"
        },
        "outputId": "046a0f02-1caa-419f-84e5-5ba4c0033389"
      },
      "outputs": [
        {
          "output_type": "stream",
          "name": "stdout",
          "text": [
            "time: 1.74 ms (started: 2022-01-13 15:55:33 +00:00)\n"
          ]
        }
      ],
      "source": [
        "def load_and_process(data):\n",
        "  data, labels = read_dataset(data)\n",
        "  input_ids, attention_masks, labels = data_process(data, labels)\n",
        "  return input_ids, attention_masks, labels "
      ]
    },
    {
      "cell_type": "code",
      "execution_count": null,
      "metadata": {
        "id": "6CbYaQMnb0HE",
        "colab": {
          "base_uri": "https://localhost:8080/"
        },
        "outputId": "28c7e908-f6ee-4a90-b250-e4fca914da20"
      },
      "outputs": [
        {
          "output_type": "stream",
          "name": "stdout",
          "text": [
            "time: 53.2 ms (started: 2022-01-13 15:55:35 +00:00)\n"
          ]
        }
      ],
      "source": [
        "##################################\n",
        "##  FUNCTION TO TRAIN THE MODEL ##\n",
        "##################################\n",
        "\n",
        "def train_model():\n",
        "  model.train()\n",
        "\n",
        "  total_loss, total_accuracy = 0, 0 \n",
        "\n",
        "  #empty list to save model predictions\n",
        "  total_preds = []\n",
        "\n",
        "  #iterate over batches \n",
        "  total = len(train_dataloader) #aşağıda\n",
        "\n",
        "  for i, batch in enumerate(train_dataloader):\n",
        "\n",
        "    step = i+1\n",
        "    percent = \"{0:.2f}\".format(100 * (step / float(total)))\n",
        "    lossp = \"{0:.2f}\".format(total_loss/(total*batch_size))\n",
        "    filledLength = int(100 * step // total)\n",
        "    bar = '█' * filledLength + '>'  *(filledLength < 100) + '.' * (99 - filledLength)\n",
        "    print(f'\\rBatch {step}/{total} |{bar}| {percent}% complete, loss={lossp}, accuracy={total_accuracy}', end='')\n",
        "\n",
        "    #push the batch to gpu \n",
        "    batch = [r.to(device) for r in batch]\n",
        "    sent_id, mask, labels = batch \n",
        "    del batch \n",
        "    gc.collect()\n",
        "    torch.cuda.empty_cache()\n",
        "    # clear previously calculated gradients \n",
        "    model.zero_grad()\n",
        "\n",
        "    #get model prediction for the current batch \n",
        "    #send_id = torch.tensor(sent_id).to(device).long()\n",
        "    preds = model(sent_id, mask)\n",
        "    \n",
        "\n",
        "    #compute the loss between actual and predicted values \n",
        "    loss = cross_entropy(preds, labels)\n",
        "\n",
        "    # add on the total loss \n",
        "    total_loss += float(loss.item())\n",
        "\n",
        "    #backward pass to calculate the gradients \n",
        "    loss.backward()\n",
        "\n",
        "    #clip the grafients 1.0 to help preventing the exploding gradient problem\n",
        "    torch.nn.utils.clip_grad_norm_(model.parameters(), 1.0)\n",
        "\n",
        "    # update parameters \n",
        "    optimizer.step()\n",
        "\n",
        "    # model predictions are stored on GPU. So, push it to CPU and get all preds \n",
        "    total_preds.append(preds.detach().cpu().numpy())\n",
        "\n",
        "  gc.collect()\n",
        "  torch.cuda.empty_cache()\n",
        "  # predictions are in the form of (no. of batches, size of batch, no. of classes).\n",
        "  # reshape the predictions in form of (number of samples, no. of classes)\n",
        "  total_preds = np.concatenate(total_preds, axis=0)\n",
        "\n",
        "\n",
        "  #compute the training loss of the epoch \n",
        "  avg_loss = total_loss / (len(train_dataloader) * batch_size)\n",
        "\n",
        "  \n",
        "\n",
        "  #returns the loss and predictions \n",
        "  return avg_loss, total_preds \n",
        "\n"
      ]
    },
    {
      "cell_type": "code",
      "execution_count": null,
      "metadata": {
        "id": "ZAJNTMa_VB5k",
        "colab": {
          "base_uri": "https://localhost:8080/"
        },
        "outputId": "b881bf9c-4856-4997-c5d9-41ed9da8320e"
      },
      "outputs": [
        {
          "output_type": "stream",
          "name": "stdout",
          "text": [
            "time: 40.6 ms (started: 2022-01-13 15:55:38 +00:00)\n"
          ]
        }
      ],
      "source": [
        "########################## \n",
        "## FUNCTION TO EVALUATE ##\n",
        "########################## \n",
        "\n",
        "def evaluate():\n",
        "    print(\"\\n\\nEvaluating...\")\n",
        "\n",
        "    # deactivate dropout layers\n",
        "    model.eval()\n",
        "\n",
        "    total_loss, total_accuracy = 0, 0\n",
        "\n",
        "    # empty list to save the model predictions\n",
        "    total_preds = []\n",
        "\n",
        "    # iterate over batches\n",
        "    total = len(val_dataloader)\n",
        "    for i, batch in enumerate(val_dataloader):\n",
        "        \n",
        "        step = i+1\n",
        "        percent = \"{0:.2f}\".format(100 * (step / float(total)))\n",
        "        lossp = \"{0:.2f}\".format(total_loss/(total*batch_size))\n",
        "        filledLength = int(100 * step // total)\n",
        "        bar = '█' * filledLength + '>' * (filledLength < 100) + '.' * (99 - filledLength)\n",
        "        print(f'\\rBatch {step}/{total} |{bar}| {percent}% complete, loss={lossp}, accuracy={total_accuracy}', end='')\n",
        "\n",
        "        # push the batch to gpu\n",
        "        batch = [t.to(device) for t in batch]\n",
        "\n",
        "        sent_id, mask, labels = batch\n",
        "        del batch\n",
        "        gc.collect()\n",
        "        torch.cuda.empty_cache()\n",
        "        # deactivate autograd\n",
        "        with torch.no_grad():\n",
        "\n",
        "            # model predictions\n",
        "            preds = model(sent_id, mask)\n",
        "\n",
        "            # compute the validation loss between actual and predicted values\n",
        "            loss = cross_entropy(preds, labels)\n",
        "            \n",
        "\n",
        "             \n",
        "\n",
        "            total_loss += float(loss.item())\n",
        "            #preds = preds.detach().cpu().numpy()\n",
        "\n",
        "            \n",
        "\n",
        "            #total_preds.append(preds)\n",
        "            total_preds.append(preds.detach().cpu().numpy())\n",
        "\n",
        "    gc.collect()\n",
        "    torch.cuda.empty_cache()\n",
        "    \n",
        "\n",
        "    # compute the validation loss of the epoch\n",
        "    avg_loss = total_loss / (len(val_dataloader)*batch_size)\n",
        "\n",
        "    # reshape the predictions in form of (number of samples, no. of classes)\n",
        "    total_preds = np.concatenate(total_preds, axis=0)\n",
        "    \n",
        "\n",
        "    return avg_loss, total_preds"
      ]
    },
    {
      "cell_type": "code",
      "execution_count": null,
      "metadata": {
        "id": "kvVt4qKJV0O2"
      },
      "outputs": [],
      "source": [
        ""
      ]
    },
    {
      "cell_type": "code",
      "execution_count": null,
      "metadata": {
        "colab": {
          "base_uri": "https://localhost:8080/",
          "height": 150,
          "referenced_widgets": [
            "0db1352581af4339b4315f105a283478",
            "7f18b1aeb2544194b8e4603889c2b3cd",
            "ddc74e8664894ac1b75967c4575340f2",
            "a11c05a06ded449c8a8cc1b283f3c940",
            "d186ae093041445183e2688504ac2ed0",
            "6b032b6313b247b3be0d8b510437d541",
            "769e7d3abd7f4d1795e05369a646f039",
            "13925a364e8b47e7ae942470594aeb66",
            "feaafae2852d4cffa29943fbd6c08382",
            "cb8b732f399142e098774a0b9db841a0",
            "4896e2d681734678ac700dfc03a08667",
            "5ce10c8ce2f04143b03314e80177a957",
            "7c1a91249af74ca6a2bf2f8a23db611b",
            "95b3408152f5436a87b36004e91fee32",
            "a073dd8f6aa54c16ac45f0412cbbdbdd",
            "a0437b573d054392974e16b1eaffedef",
            "81b68fe5494c4bd9b4265cd7749bcd56",
            "4ed9654f780d4271b55230a522cf510c",
            "06ab783219ac45b89bcae8f877c5f0af",
            "a56fc508baaf454380490e675b2bffab",
            "81956b8847724a8183b8c4c6dc315c99",
            "4585becf49ab42f586c324de104a8f31"
          ]
        },
        "id": "eMEKbUlufnAS",
        "outputId": "7fe22639-691c-4d89-9532-104d1ef8a133"
      },
      "outputs": [
        {
          "output_type": "stream",
          "name": "stdout",
          "text": [
            "5733\n"
          ]
        },
        {
          "output_type": "display_data",
          "data": {
            "application/vnd.jupyter.widget-view+json": {
              "model_id": "0db1352581af4339b4315f105a283478",
              "version_minor": 0,
              "version_major": 2
            },
            "text/plain": [
              "Downloading:   0%|          | 0.00/251k [00:00<?, ?B/s]"
            ]
          },
          "metadata": {}
        },
        {
          "output_type": "display_data",
          "data": {
            "application/vnd.jupyter.widget-view+json": {
              "model_id": "5ce10c8ce2f04143b03314e80177a957",
              "version_minor": 0,
              "version_major": 2
            },
            "text/plain": [
              "Downloading:   0%|          | 0.00/60.0 [00:00<?, ?B/s]"
            ]
          },
          "metadata": {}
        },
        {
          "output_type": "stream",
          "name": "stdout",
          "text": [
            "639\n",
            "1592\n",
            "time: 5.23 s (started: 2022-01-13 15:55:42 +00:00)\n"
          ]
        }
      ],
      "source": [
        "#############################\n",
        "## LOAD BERT INPUT DATASET ##\n",
        "#############################\n",
        "\n",
        "train_input_ids, train_attention_masks, train_labels = load_and_process(train)\n",
        "train_set = pd.DataFrame(list(zip(train_input_ids, train_attention_masks)), columns=['input_ids', 'attention_masks'])\n",
        "\n",
        "val_input_ids, val_attention_masks, val_labels = load_and_process(val)\n",
        "val_set = pd.DataFrame(list(zip(val_input_ids, val_attention_masks)), columns=['input_ids', 'attention_masks'])\n",
        "\n",
        "test_input_ids, test_attention_masks, test_labels = load_and_process(test)\n",
        "test_set = pd.DataFrame(list(zip(test_input_ids, test_attention_masks)), columns=['input_ids', 'attention_masks'])\n",
        "\n"
      ]
    },
    {
      "cell_type": "code",
      "execution_count": null,
      "metadata": {
        "id": "u9OHrI_AigYX",
        "colab": {
          "base_uri": "https://localhost:8080/",
          "height": 98,
          "referenced_widgets": [
            "1a78e85383c64901bbe0e7a4128b37bd",
            "3c64a419dcee4b56b5f40a030d71e918",
            "c589613a91e649719a06061a7605aeb8",
            "8b07254e4f2e4c4cba0059d4868b6725",
            "5c02178cd0cd40c48bfa9ccf9f3a6787",
            "7b0725c793414fcbbc36d6fd09ce5fd3",
            "0178c854736c405e988b1394294ba12f",
            "6e104d70e0484d61a3c62ab1955bc111",
            "b769747b8cd44053b2ec417763aee402",
            "118d493d318e43848ccf82c19934bd0f",
            "2a6b472a60ee48cb96abc540c7cf9b29",
            "8cb8b8bcdb69402db058a66af8465587",
            "1233c1da32ba4a4d912c8534608b2bf0",
            "7b6ce707c4d043df80e618e8f8ea932f",
            "72d4b14550d143d2924b50052c4c3504",
            "e1130b481ad343a48bfdfc4a1f600555",
            "441a8e93eab94595bd19aafc1836ca94",
            "2af4ebdf2d314a84a45cf531b872ccfd",
            "b139bd34638241d9b00a8dfc34b21ba4",
            "cc4fc7ead9704752a536a73f40a3cf6b",
            "e81bc6b35f414d0c85d5a667df013422",
            "966eadaedd954fee879c58dad998cea3"
          ]
        },
        "outputId": "46693971-8066-46fa-f7b1-381df5c1a47e"
      },
      "outputs": [
        {
          "output_type": "display_data",
          "data": {
            "application/vnd.jupyter.widget-view+json": {
              "model_id": "1a78e85383c64901bbe0e7a4128b37bd",
              "version_minor": 0,
              "version_major": 2
            },
            "text/plain": [
              "Downloading:   0%|          | 0.00/385 [00:00<?, ?B/s]"
            ]
          },
          "metadata": {}
        },
        {
          "output_type": "display_data",
          "data": {
            "application/vnd.jupyter.widget-view+json": {
              "model_id": "8cb8b8bcdb69402db058a66af8465587",
              "version_minor": 0,
              "version_major": 2
            },
            "text/plain": [
              "Downloading:   0%|          | 0.00/445M [00:00<?, ?B/s]"
            ]
          },
          "metadata": {}
        },
        {
          "output_type": "stream",
          "name": "stdout",
          "text": [
            "time: 11.7 s (started: 2022-01-13 15:55:48 +00:00)\n"
          ]
        }
      ],
      "source": [
        "bert = BertModel.from_pretrained(\"dbmdz/bert-base-turkish-cased\")"
      ]
    },
    {
      "cell_type": "code",
      "execution_count": null,
      "metadata": {
        "id": "C8i2bpK8imPZ",
        "colab": {
          "base_uri": "https://localhost:8080/"
        },
        "outputId": "7488e124-791d-45f0-cc59-92114e62ac72"
      },
      "outputs": [
        {
          "output_type": "stream",
          "name": "stdout",
          "text": [
            "time: 114 ms (started: 2022-01-13 15:55:59 +00:00)\n"
          ]
        },
        {
          "output_type": "stream",
          "name": "stderr",
          "text": [
            "/usr/local/lib/python3.7/dist-packages/ipykernel_launcher.py:2: UserWarning: Creating a tensor from a list of numpy.ndarrays is extremely slow. Please consider converting the list to a single numpy.ndarray with numpy.array() before converting to a tensor. (Triggered internally at  ../torch/csrc/utils/tensor_new.cpp:201.)\n",
            "  \n"
          ]
        }
      ],
      "source": [
        "# for train set \n",
        "train_seq = torch.tensor(train_set['input_ids'].tolist())\n",
        "train_mask = torch.tensor(train_set['attention_masks'].tolist())\n",
        "train_y = torch.tensor(train_labels.tolist())\n",
        "\n",
        "# for validation set\n",
        "val_seq = torch.tensor(val_set['input_ids'].tolist())\n",
        "val_mask = torch.tensor(val_set['attention_masks'].tolist())\n",
        "val_y = torch.tensor(val_labels.tolist())\n",
        "\n",
        "# for test set\n",
        "test_seq = torch.tensor(test_set['input_ids'].tolist())\n",
        "test_mask = torch.tensor(test_set['attention_masks'].tolist())\n",
        "test_y = torch.tensor(test_labels.tolist())"
      ]
    },
    {
      "cell_type": "code",
      "execution_count": null,
      "metadata": {
        "id": "gA3LyU8cjLk6",
        "colab": {
          "base_uri": "https://localhost:8080/"
        },
        "outputId": "75e478aa-9144-41cf-926e-df3373a35618"
      },
      "outputs": [
        {
          "output_type": "stream",
          "name": "stdout",
          "text": [
            "time: 10.9 ms (started: 2022-01-13 15:56:00 +00:00)\n"
          ]
        }
      ],
      "source": [
        "########################\n",
        "## CREATE DATALOADERS ##\n",
        "########################\n",
        "\n",
        "from torch.utils.data import TensorDataset, DataLoader, RandomSampler, SequentialSampler\n",
        "\n",
        "# define a batch size\n",
        "batch_size = 16\n",
        "\n",
        "# wrap tensors\n",
        "train_data = TensorDataset(train_seq, train_mask, train_y)\n",
        "\n",
        "# sampler for sampling the data during training\n",
        "train_sampler = RandomSampler(train_data)\n",
        "\n",
        "# dataLoader for train set\n",
        "train_dataloader = DataLoader(train_data, sampler=train_sampler, batch_size=batch_size)\n",
        "\n",
        "# wrap tensors\n",
        "val_data = TensorDataset(val_seq, val_mask, val_y)\n",
        "\n",
        "# sampler for sampling the data during training\n",
        "val_sampler = SequentialSampler(val_data)\n",
        "\n",
        "# dataLoader for validation set\n",
        "val_dataloader = DataLoader(val_data, sampler=val_sampler, batch_size=batch_size)"
      ]
    },
    {
      "cell_type": "code",
      "execution_count": null,
      "metadata": {
        "colab": {
          "base_uri": "https://localhost:8080/"
        },
        "id": "bVszgpuwMHAo",
        "outputId": "7fe053ae-47e5-4a2f-e157-0dc5b142652f"
      },
      "outputs": [
        {
          "name": "stdout",
          "output_type": "stream",
          "text": [
            "<torch.utils.data.dataset.TensorDataset object at 0x7f06b1d8ed90>\n"
          ]
        }
      ],
      "source": [
        "print(train_data)"
      ]
    },
    {
      "cell_type": "code",
      "execution_count": null,
      "metadata": {
        "id": "KOr-BoWmlV_8",
        "colab": {
          "base_uri": "https://localhost:8080/"
        },
        "outputId": "b67d3dca-9997-4473-c0ee-f8d82ca7179e"
      },
      "outputs": [
        {
          "output_type": "stream",
          "name": "stdout",
          "text": [
            "time: 3.7 ms (started: 2022-01-12 19:25:33 +00:00)\n"
          ]
        }
      ],
      "source": [
        "############################\n",
        "## FREEZE BERT PARAMETERS ##\n",
        "############################\n",
        "\n",
        "for param in bert.parameters():\n",
        "  param.requires_grad = False \n",
        "  "
      ]
    },
    {
      "cell_type": "code",
      "execution_count": null,
      "metadata": {
        "colab": {
          "base_uri": "https://localhost:8080/"
        },
        "id": "yCYak3mKLpzf",
        "outputId": "23f5fadb-6a62-4a25-9a16-e279295163c6"
      },
      "outputs": [
        {
          "output_type": "stream",
          "name": "stdout",
          "text": [
            "cuda\n",
            "time: 67 ms (started: 2022-01-13 15:56:00 +00:00)\n"
          ]
        }
      ],
      "source": [
        "device = 'cuda' if torch.cuda.is_available() else 'cpu'\n",
        "print(device)"
      ]
    },
    {
      "cell_type": "code",
      "execution_count": null,
      "metadata": {
        "id": "0kjp3WY5luW6",
        "colab": {
          "base_uri": "https://localhost:8080/"
        },
        "outputId": "a7260e61-a2f9-4a77-9d7e-528a28ea7d8f"
      },
      "outputs": [
        {
          "output_type": "stream",
          "name": "stdout",
          "text": [
            "time: 2.41 s (started: 2022-01-13 16:11:21 +00:00)\n"
          ]
        }
      ],
      "source": [
        "# pass the pre-trained BERT to out define artchitecture \n",
        "model = BERT_CNN(bert)\n",
        "# push the model to GPU \n",
        "model = model.to(device)\n",
        "\n",
        "#optimizer from huggingface transformers \n",
        "from transformers import AdamW\n",
        "\n",
        "\n",
        "#define the optimizer \n",
        "optimizer = AdamW(model.parameters(), lr= 1e-5)\n",
        "\n"
      ]
    },
    {
      "cell_type": "code",
      "execution_count": null,
      "metadata": {
        "id": "zXVPcnnqLpAy",
        "colab": {
          "base_uri": "https://localhost:8080/"
        },
        "outputId": "c1f61e1f-b679-4b96-beff-38291df75591"
      },
      "outputs": [
        {
          "output_type": "stream",
          "name": "stdout",
          "text": [
            "time: 8.14 ms (started: 2022-01-13 15:56:14 +00:00)\n"
          ]
        }
      ],
      "source": [
        "# compute the class weights\n",
        "\n",
        "from sklearn.utils.class_weight import compute_class_weight\n",
        "\n",
        "weights = torch.Tensor(compute_class_weight(classes=[0,1,2], y=train_labels, class_weight= \"balanced\")).to(device)"
      ]
    },
    {
      "cell_type": "code",
      "execution_count": null,
      "metadata": {
        "colab": {
          "base_uri": "https://localhost:8080/"
        },
        "id": "-hUkPl_vnqzy",
        "outputId": "ba5af214-dd59-4a22-9ef1-850b362ae318"
      },
      "outputs": [
        {
          "output_type": "stream",
          "name": "stdout",
          "text": [
            "\n",
            "Epoch 1 / 3:\n",
            "Batch 359/359 |████████████████████████████████████████████████████████████████████████████████████████████████████| 100.00% complete, loss=0.06, accuracy=0\n",
            "\n",
            "Evaluating...\n",
            "Batch 40/40 |████████████████████████████████████████████████████████████████████████████████████████████████████| 100.00% complete, loss=0.04, accuracy=0\n",
            "\n",
            "Training Loss: 0.058\n",
            "Validation Loss: 0.046\n",
            "\n",
            "Epoch 2 / 3:\n",
            "Batch 359/359 |████████████████████████████████████████████████████████████████████████████████████████████████████| 100.00% complete, loss=0.04, accuracy=0\n",
            "\n",
            "Evaluating...\n",
            "Batch 40/40 |████████████████████████████████████████████████████████████████████████████████████████████████████| 100.00% complete, loss=0.04, accuracy=0\n",
            "\n",
            "Training Loss: 0.042\n",
            "Validation Loss: 0.043\n",
            "\n",
            "Epoch 3 / 3:\n",
            "Batch 359/359 |████████████████████████████████████████████████████████████████████████████████████████████████████| 100.00% complete, loss=0.03, accuracy=0\n",
            "\n",
            "Evaluating...\n",
            "Batch 40/40 |████████████████████████████████████████████████████████████████████████████████████████████████████| 100.00% complete, loss=0.04, accuracy=0\n",
            "\n",
            "Training Loss: 0.032\n",
            "Validation Loss: 0.045\n",
            "time: 23min 50s (started: 2022-01-13 16:11:26 +00:00)\n"
          ]
        }
      ],
      "source": [
        "# loss function \n",
        "cross_entropy = nn.NLLLoss( weight = weights) #weightsle de dene bi \n",
        "\n",
        "#set initial loss to infinite \n",
        "best_valid_loss = float(\"inf\")\n",
        "\n",
        "epochs = 3\n",
        "current = 1\n",
        "#for each epoch \n",
        "while current <= epochs:\n",
        "\n",
        "  print(f'\\nEpoch {current} / {epochs}:')\n",
        "\n",
        "  #train model \n",
        "  train_loss, _ = train_model()\n",
        "\n",
        "  #evaluate model\n",
        "  valid_loss, _ = evaluate()\n",
        "\n",
        "  #save the best model \n",
        "  if valid_loss < best_valid_loss:\n",
        "    best_valid_loss = valid_loss \n",
        "    torch.save(model.state_dict(), \"saved weights.pth\")\n",
        "\n",
        "  print(f'\\n\\nTraining Loss: {train_loss:.3f}')\n",
        "  print(f'Validation Loss: {valid_loss:.3f}')\n",
        "  #plot the loss \n",
        "  \n",
        "\n",
        "  current = current + 1\n",
        "\n",
        "\n",
        "\n",
        "\n"
      ]
    },
    {
      "cell_type": "code",
      "source": [
        "#get predictions for test data \n",
        "gc.collect()\n",
        "torch.cuda.empty_cache()\n",
        "\n",
        "with torch.no_grad():\n",
        "  preds = model(test_seq.to(device), test_mask.to(device))\n",
        "  preds = preds.detach().cpu().numpy()\n",
        "\n",
        "\n",
        "print(\"Performance:\")\n",
        "\n",
        "#model's performance \n",
        "preds = np.argmax(preds, axis =1)\n",
        "print(\"Classification Report \")\n",
        "print(classification_report(test_y, preds, digits = 4))\n",
        "\n",
        "print(\"Accuracy:\" + str(accuracy_score(test_y, preds)))"
      ],
      "metadata": {
        "id": "4HrRWQhBwtv-",
        "colab": {
          "base_uri": "https://localhost:8080/"
        },
        "outputId": "93ced0da-2d7b-4e0c-cb9f-5f09543a3021"
      },
      "execution_count": null,
      "outputs": [
        {
          "output_type": "stream",
          "name": "stdout",
          "text": [
            "Performance:\n",
            "Classification Report \n",
            "              precision    recall  f1-score   support\n",
            "\n",
            "           0     0.6215    0.7036    0.6600       280\n",
            "           1     0.8545    0.7805    0.8159       843\n",
            "           2     0.6495    0.6994    0.6735       469\n",
            "\n",
            "    accuracy                         0.7431      1592\n",
            "   macro avg     0.7085    0.7278    0.7164      1592\n",
            "weighted avg     0.7531    0.7431    0.7465      1592\n",
            "\n",
            "Accuracy:0.7430904522613065\n",
            "time: 5.22 s (started: 2022-01-13 16:35:16 +00:00)\n"
          ]
        }
      ]
    },
    {
      "cell_type": "code",
      "source": [
        "from sklearn.metrics import confusion_matrix\n",
        "import matplotlib.pyplot as plt\n",
        "\n"
      ],
      "metadata": {
        "id": "O4jfIA0i4AX4"
      },
      "execution_count": null,
      "outputs": []
    },
    {
      "cell_type": "code",
      "source": [
        "def plot_confusion_matrix(cm, classes,\n",
        "                          normalize=False,\n",
        "                          title='Confusion matrix',\n",
        "                          cmap=plt.cm.Blues):\n",
        "    \"\"\"\n",
        "    This function prints and plots the confusion matrix.\n",
        "    Normalization can be applied by setting `normalize=True`.\n",
        "    \"\"\"\n",
        "    import itertools\n",
        "    if normalize:\n",
        "        cm = cm.astype('float') / cm.sum(axis=1)[:, np.newaxis]\n",
        "        print(\"Normalized confusion matrix\")\n",
        "    else:\n",
        "        print('Confusion matrix, without normalization')\n",
        "\n",
        "    print(cm)\n",
        "\n",
        "    plt.imshow(cm, interpolation='nearest', cmap=cmap)\n",
        "    plt.title(title)\n",
        "    plt.colorbar()\n",
        "    tick_marks = np.arange(len(classes))\n",
        "    plt.xticks(tick_marks, classes, rotation=45)\n",
        "    plt.yticks(tick_marks, classes)\n",
        "\n",
        "    fmt = '.2f' if normalize else 'd'\n",
        "    thresh = cm.max() / 2.\n",
        "    for i, j in itertools.product(range(cm.shape[0]), range(cm.shape[1])):\n",
        "        plt.text(j, i, format(cm[i, j], fmt),\n",
        "                 horizontalalignment=\"center\",\n",
        "                 color=\"white\" if cm[i, j] > thresh else \"black\")\n",
        "\n",
        "    plt.ylabel('True label')\n",
        "    plt.xlabel('Predicted label')\n",
        "    plt.tight_layout()"
      ],
      "metadata": {
        "id": "D6sHL0n5adFa"
      },
      "execution_count": null,
      "outputs": []
    },
    {
      "cell_type": "code",
      "source": [
        "plt.figure()\n",
        "plot_confusion_matrix(cnf_boun, classes=[\"Negative\", \"Neutral\", \"Positive\"])\n",
        "plt.savefig(\"/content/MyDrive/MyDrive/bert_cnn_bounti.png\")"
      ],
      "metadata": {
        "colab": {
          "base_uri": "https://localhost:8080/",
          "height": 366
        },
        "id": "bn4fkP6lalv8",
        "outputId": "c34a49a5-6fec-4ab6-948d-2d1a842cb2e2"
      },
      "execution_count": null,
      "outputs": [
        {
          "output_type": "stream",
          "name": "stdout",
          "text": [
            "Confusion matrix, without normalization\n",
            "[[190  38  52]\n",
            " [ 61 645 137]\n",
            " [ 45  82 342]]\n"
          ]
        },
        {
          "output_type": "display_data",
          "data": {
            "image/png": "[encoded data removed]",
            "text/plain": [
              "<Figure size 432x288 with 2 Axes>"
            ]
          },
          "metadata": {
            "needs_background": "light"
          }
        }
      ]
    },
    {
      "cell_type": "code",
      "source": [
        "#########################\n",
        "## İSTANBUL CONVENTION ##\n",
        "#########################\n",
        "\n",
        "#LOAD THE DATASET \n",
        "\n",
        "ist = pd.read_excel(\"/content/MyDrive/MyDrive/serraa.xlsx\")\n",
        "\n",
        "ist.head()\n"
      ],
      "metadata": {
        "id": "SY08UGlEySml",
        "colab": {
          "base_uri": "https://localhost:8080/",
          "height": 206
        },
        "outputId": "b79fcba9-2b6d-43d3-e48c-8a362d1f6b3b"
      },
      "execution_count": null,
      "outputs": [
        {
          "output_type": "execute_result",
          "data": {
            "text/html": [
              "\n",
              "  <div id=\"df-cdccf6c1-bc28-4fda-bc21-62c6d823be76\">\n",
              "    <div class=\"colab-df-container\">\n",
              "      <div>\n",
              "<style scoped>\n",
              "    .dataframe tbody tr th:only-of-type {\n",
              "        vertical-align: middle;\n",
              "    }\n",
              "\n",
              "    .dataframe tbody tr th {\n",
              "        vertical-align: top;\n",
              "    }\n",
              "\n",
              "    .dataframe thead th {\n",
              "        text-align: right;\n",
              "    }\n",
              "</style>\n",
              "<table border=\"1\" class=\"dataframe\">\n",
              "  <thead>\n",
              "    <tr style=\"text-align: right;\">\n",
              "      <th></th>\n",
              "      <th>Unnamed: 0</th>\n",
              "      <th>tweet</th>\n",
              "      <th>duygu</th>\n",
              "      <th>Unnamed: 3</th>\n",
              "      <th>Unnamed: 4</th>\n",
              "    </tr>\n",
              "  </thead>\n",
              "  <tbody>\n",
              "    <tr>\n",
              "      <th>0</th>\n",
              "      <td>1</td>\n",
              "      <td>Onca sey oluyor ve benim gercekten icimden ned...</td>\n",
              "      <td>0.0</td>\n",
              "      <td>NaN</td>\n",
              "      <td>NaN</td>\n",
              "    </tr>\n",
              "    <tr>\n",
              "      <th>1</th>\n",
              "      <td>2</td>\n",
              "      <td>@cryptoenes0 @SeverLehmacun @solcugazete gezi ...</td>\n",
              "      <td>0.0</td>\n",
              "      <td>NaN</td>\n",
              "      <td>NaN</td>\n",
              "    </tr>\n",
              "    <tr>\n",
              "      <th>2</th>\n",
              "      <td>3</td>\n",
              "      <td>Yakında bizi yakmaya da kalkar bunlar. Sürekli...</td>\n",
              "      <td>0.0</td>\n",
              "      <td>NaN</td>\n",
              "      <td>NaN</td>\n",
              "    </tr>\n",
              "    <tr>\n",
              "      <th>3</th>\n",
              "      <td>4</td>\n",
              "      <td>Çok az kaldı çok az. Üzerine koştuğunuz ,bastı...</td>\n",
              "      <td>0.0</td>\n",
              "      <td>NaN</td>\n",
              "      <td>NaN</td>\n",
              "    </tr>\n",
              "    <tr>\n",
              "      <th>4</th>\n",
              "      <td>5</td>\n",
              "      <td>@abdulhamitgul Hayvan yasası yeni bir istanbul...</td>\n",
              "      <td>0.0</td>\n",
              "      <td>NaN</td>\n",
              "      <td>NaN</td>\n",
              "    </tr>\n",
              "  </tbody>\n",
              "</table>\n",
              "</div>\n",
              "      <button class=\"colab-df-convert\" onclick=\"convertToInteractive('df-cdccf6c1-bc28-4fda-bc21-62c6d823be76')\"\n",
              "              title=\"Convert this dataframe to an interactive table.\"\n",
              "              style=\"display:none;\">\n",
              "        \n",
              "  <svg xmlns=\"http://www.w3.org/2000/svg\" height=\"24px\"viewBox=\"0 0 24 24\"\n",
              "       width=\"24px\">\n",
              "    <path d=\"M0 0h24v24H0V0z\" fill=\"none\"/>\n",
              "    <path d=\"M18.56 5.44l.94 2.06.94-2.06 2.06-.94-2.06-.94-.94-2.06-.94 2.06-2.06.94zm-11 1L8.5 8.5l.94-2.06 2.06-.94-2.06-.94L8.5 2.5l-.94 2.06-2.06.94zm10 10l.94 2.06.94-2.06 2.06-.94-2.06-.94-.94-2.06-.94 2.06-2.06.94z\"/><path d=\"M17.41 7.96l-1.37-1.37c-.4-.4-.92-.59-1.43-.59-.52 0-1.04.2-1.43.59L10.3 9.45l-7.72 7.72c-.78.78-.78 2.05 0 2.83L4 21.41c.39.39.9.59 1.41.59.51 0 1.02-.2 1.41-.59l7.78-7.78 2.81-2.81c.8-.78.8-2.07 0-2.86zM5.41 20L4 18.59l7.72-7.72 1.47 1.35L5.41 20z\"/>\n",
              "  </svg>\n",
              "      </button>\n",
              "      \n",
              "  <style>\n",
              "    .colab-df-container {\n",
              "      display:flex;\n",
              "      flex-wrap:wrap;\n",
              "      gap: 12px;\n",
              "    }\n",
              "\n",
              "    .colab-df-convert {\n",
              "      background-color: #E8F0FE;\n",
              "      border: none;\n",
              "      border-radius: 50%;\n",
              "      cursor: pointer;\n",
              "      display: none;\n",
              "      fill: #1967D2;\n",
              "      height: 32px;\n",
              "      padding: 0 0 0 0;\n",
              "      width: 32px;\n",
              "    }\n",
              "\n",
              "    .colab-df-convert:hover {\n",
              "      background-color: #E2EBFA;\n",
              "      box-shadow: 0px 1px 2px rgba(60, 64, 67, 0.3), 0px 1px 3px 1px rgba(60, 64, 67, 0.15);\n",
              "      fill: #174EA6;\n",
              "    }\n",
              "\n",
              "    [theme=dark] .colab-df-convert {\n",
              "      background-color: #3B4455;\n",
              "      fill: #D2E3FC;\n",
              "    }\n",
              "\n",
              "    [theme=dark] .colab-df-convert:hover {\n",
              "      background-color: #434B5C;\n",
              "      box-shadow: 0px 1px 3px 1px rgba(0, 0, 0, 0.15);\n",
              "      filter: drop-shadow(0px 1px 2px rgba(0, 0, 0, 0.3));\n",
              "      fill: #FFFFFF;\n",
              "    }\n",
              "  </style>\n",
              "\n",
              "      <script>\n",
              "        const buttonEl =\n",
              "          document.querySelector('#df-cdccf6c1-bc28-4fda-bc21-62c6d823be76 button.colab-df-convert');\n",
              "        buttonEl.style.display =\n",
              "          google.colab.kernel.accessAllowed ? 'block' : 'none';\n",
              "\n",
              "        async function convertToInteractive(key) {\n",
              "          const element = document.querySelector('#df-cdccf6c1-bc28-4fda-bc21-62c6d823be76');\n",
              "          const dataTable =\n",
              "            await google.colab.kernel.invokeFunction('convertToInteractive',\n",
              "                                                     [key], {});\n",
              "          if (!dataTable) return;\n",
              "\n",
              "          const docLinkHtml = 'Like what you see? Visit the ' +\n",
              "            '<a target=\"_blank\" href=https://colab.research.google.com/notebooks/data_table.ipynb>data table notebook</a>'\n",
              "            + ' to learn more about interactive tables.';\n",
              "          element.innerHTML = '';\n",
              "          dataTable['output_type'] = 'display_data';\n",
              "          await google.colab.output.renderOutput(dataTable, element);\n",
              "          const docLink = document.createElement('div');\n",
              "          docLink.innerHTML = docLinkHtml;\n",
              "          element.appendChild(docLink);\n",
              "        }\n",
              "      </script>\n",
              "    </div>\n",
              "  </div>\n",
              "  "
            ],
            "text/plain": [
              "   Unnamed: 0  ... Unnamed: 4\n",
              "0           1  ...        NaN\n",
              "1           2  ...        NaN\n",
              "2           3  ...        NaN\n",
              "3           4  ...        NaN\n",
              "4           5  ...        NaN\n",
              "\n",
              "[5 rows x 5 columns]"
            ]
          },
          "metadata": {},
          "execution_count": 20
        }
      ]
    },
    {
      "cell_type": "code",
      "source": [
        "ist_tweet = ist[\"tweet\"][1500].tolist()\n"
      ],
      "metadata": {
        "colab": {
          "base_uri": "https://localhost:8080/",
          "height": 166
        },
        "id": "hztjisSnKrSB",
        "outputId": "7bfbe55b-0e34-4d1c-be68-0ef7520c098b"
      },
      "execution_count": 1,
      "outputs": [
        {
          "output_type": "error",
          "ename": "NameError",
          "evalue": "ignored",
          "traceback": [
            "\u001b[0;31m---------------------------------------------------------------------------\u001b[0m",
            "\u001b[0;31mNameError\u001b[0m                                 Traceback (most recent call last)",
            "\u001b[0;32m<ipython-input-1-05d328573f83>\u001b[0m in \u001b[0;36m<module>\u001b[0;34m()\u001b[0m\n\u001b[0;32m----> 1\u001b[0;31m \u001b[0mist_tweet\u001b[0m \u001b[0;34m=\u001b[0m \u001b[0mist\u001b[0m\u001b[0;34m[\u001b[0m\u001b[0;34m\"tweet\"\u001b[0m\u001b[0;34m]\u001b[0m\u001b[0;34m[\u001b[0m\u001b[0;36m1500\u001b[0m\u001b[0;34m]\u001b[0m\u001b[0;34m.\u001b[0m\u001b[0mtolist\u001b[0m\u001b[0;34m(\u001b[0m\u001b[0;34m)\u001b[0m\u001b[0;34m\u001b[0m\u001b[0;34m\u001b[0m\u001b[0m\n\u001b[0m",
            "\u001b[0;31mNameError\u001b[0m: name 'ist' is not defined"
          ]
        }
      ]
    },
    {
      "cell_type": "code",
      "source": [
        "ist_labels = [int(i) for i in ist[\"duygu\"][:1000]]"
      ],
      "metadata": {
        "id": "rK1xudy8Oxv7"
      },
      "execution_count": null,
      "outputs": []
    },
    {
      "cell_type": "code",
      "source": [
        "def load_and_process_ist(data):\n",
        "  input_ids, attention_masks= data_process_ist(data)\n",
        "  return input_ids, attention_masks"
      ],
      "metadata": {
        "id": "DoOLGPbwNbih"
      },
      "execution_count": null,
      "outputs": []
    },
    {
      "cell_type": "code",
      "execution_count": null,
      "metadata": {
        "id": "4Ff47x_mBApk"
      },
      "outputs": [],
      "source": [
        "\n",
        "#############################################################\n",
        "## TOKENIZE AND GET THE INPUT IDS, ATTENTION MASKS, LABELS ##\n",
        "#############################################################\n",
        "\n",
        "\n",
        "def data_process_ist(data):\n",
        "  input_ids = []\n",
        "  attention_mask = []\n",
        "  sentences = [i for i in data]\n",
        "  #sentences = [filter(i) for i in sentences]\n",
        "  \n",
        "  tokenizer = BertTokenizer.from_pretrained(\"dbmdz/bert-base-turkish-cased\")\n",
        "\n",
        "  for sentence in sentences:\n",
        "    bert_inp = tokenizer.__call__(sentence, max_length= 50,\n",
        "                                  padding = \"max_length\",\n",
        "                                  pad_to_max_length=True,\n",
        "                                  truncation = True,\n",
        "                                  return_token_type_ids= False)\n",
        "    input_ids.append(bert_inp[\"input_ids\"])\n",
        "    attention_mask.append(bert_inp[\"attention_mask\"])\n",
        "\n",
        "  input_ids = np.asarray(input_ids)\n",
        "  attention_mask = np.array(attention_mask)\n",
        "  \n",
        "  return input_ids, attention_mask\n",
        "\n",
        "def get_labels(person):\n",
        "  #y = [mapping[el] for el in person]\n",
        "  y = [int(i)  for i in person]\n",
        "  print(\"no. of samples:\",len(y))\n",
        "  return y\n",
        "\n"
      ]
    },
    {
      "cell_type": "code",
      "source": [
        "\n",
        "ist_input_ids, ist_attention_masks = load_and_process_ist(ist_non100)\n",
        "ist_set = pd.DataFrame(list(zip(ist_input_ids, ist_attention_masks)), columns=['input_ids', 'attention_masks'])"
      ],
      "metadata": {
        "id": "Fs4Srg29PSRB"
      },
      "execution_count": null,
      "outputs": []
    },
    {
      "cell_type": "code",
      "source": [
        "# for test set\n",
        "ist_seq = torch.tensor(ist_set['input_ids'].tolist())\n",
        "ist_mask = torch.tensor(ist_set['attention_masks'].tolist())\n",
        "y = torch.tensor(ist_y)\n",
        "\n",
        "\n"
      ],
      "metadata": {
        "id": "t7Eiet0gPpiN"
      },
      "execution_count": null,
      "outputs": []
    },
    {
      "cell_type": "markdown",
      "source": [
        ""
      ],
      "metadata": {
        "id": "FPHx5Dyq4hNY"
      }
    },
    {
      "cell_type": "code",
      "source": [
        "#get predictions for test data \n",
        "gc.collect()\n",
        "torch.cuda.empty_cache()\n",
        "\n",
        "with torch.no_grad():\n",
        "  preds_ist = model(ist_seq.to(device), ist_mask.to(device))\n",
        "  preds_ist = preds_ist.detach().cpu().numpy()\n",
        "\n"
      ],
      "metadata": {
        "id": "e0ZUMXjxPvOb"
      },
      "execution_count": null,
      "outputs": []
    },
    {
      "cell_type": "code",
      "source": [
        "print(\"Performance:\")\n",
        "\n",
        "#model's performance \n",
        "preds_ist = np.argmax(preds_ist, axis =1)\n",
        "preds_ist = preds_ist[:1000]\n",
        "print(preds.shape)\n",
        "\n",
        "print(\"Classification Report \")\n",
        "print(classification_report(un1000_y ,preds_ist, digits = 4))\n",
        "\n",
        "print(\"Accuracy:\" + str(accuracy_score(un1000_y, preds_ist)))"
      ],
      "metadata": {
        "id": "AACAy8Acy_8x",
        "colab": {
          "base_uri": "https://localhost:8080/"
        },
        "outputId": "c65500dd-b0de-41fa-bce2-9d6955daf5bb"
      },
      "execution_count": null,
      "outputs": [
        {
          "output_type": "stream",
          "name": "stdout",
          "text": [
            "Performance:\n",
            "(1592,)\n",
            "Classification Report \n",
            "              precision    recall  f1-score   support\n",
            "\n",
            "           0     0.6686    0.7356    0.7005       469\n",
            "           1     0.5463    0.5377    0.5420       318\n",
            "           2     0.4561    0.3662    0.4062       213\n",
            "\n",
            "    accuracy                         0.5940      1000\n",
            "   macro avg     0.5570    0.5465    0.5496      1000\n",
            "weighted avg     0.5845    0.5940    0.5874      1000\n",
            "\n",
            "Accuracy:0.594\n"
          ]
        }
      ]
    }
  ],
  "metadata": {
    "colab": {
      "collapsed_sections": [],
      "name": "Thesis BERT+CNN.py",
      "provenance": []
    },
    "kernelspec": {
      "display_name": "Python 3",
      "name": "python3"
    },
    "language_info": {
      "name": "python"
    },
    "accelerator": "GPU",
    "widgets": {
      "application/vnd.jupyter.widget-state+json": {
        "0db1352581af4339b4315f105a283478": {
          "model_module": "@jupyter-widgets/controls",
          "model_name": "HBoxModel",
          "model_module_version": "1.5.0",
          "state": {
            "_view_name": "HBoxView",
            "_dom_classes": [],
            "_model_name": "HBoxModel",
            "_view_module": "@jupyter-widgets/controls",
            "_model_module_version": "1.5.0",
            "_view_count": null,
            "_view_module_version": "1.5.0",
            "box_style": "",
            "layout": "IPY_MODEL_7f18b1aeb2544194b8e4603889c2b3cd",
            "_model_module": "@jupyter-widgets/controls",
            "children": [
              "IPY_MODEL_ddc74e8664894ac1b75967c4575340f2",
              "IPY_MODEL_a11c05a06ded449c8a8cc1b283f3c940",
              "IPY_MODEL_d186ae093041445183e2688504ac2ed0"
            ]
          }
        },
        "7f18b1aeb2544194b8e4603889c2b3cd": {
          "model_module": "@jupyter-widgets/base",
          "model_name": "LayoutModel",
          "model_module_version": "1.2.0",
          "state": {
            "_view_name": "LayoutView",
            "grid_template_rows": null,
            "right": null,
            "justify_content": null,
            "_view_module": "@jupyter-widgets/base",
            "overflow": null,
            "_model_module_version": "1.2.0",
            "_view_count": null,
            "flex_flow": null,
            "width": null,
            "min_width": null,
            "border": null,
            "align_items": null,
            "bottom": null,
            "_model_module": "@jupyter-widgets/base",
            "top": null,
            "grid_column": null,
            "overflow_y": null,
            "overflow_x": null,
            "grid_auto_flow": null,
            "grid_area": null,
            "grid_template_columns": null,
            "flex": null,
            "_model_name": "LayoutModel",
            "justify_items": null,
            "grid_row": null,
            "max_height": null,
            "align_content": null,
            "visibility": null,
            "align_self": null,
            "height": null,
            "min_height": null,
            "padding": null,
            "grid_auto_rows": null,
            "grid_gap": null,
            "max_width": null,
            "order": null,
            "_view_module_version": "1.2.0",
            "grid_template_areas": null,
            "object_position": null,
            "object_fit": null,
            "grid_auto_columns": null,
            "margin": null,
            "display": null,
            "left": null
          }
        },
        "ddc74e8664894ac1b75967c4575340f2": {
          "model_module": "@jupyter-widgets/controls",
          "model_name": "HTMLModel",
          "model_module_version": "1.5.0",
          "state": {
            "_view_name": "HTMLView",
            "style": "IPY_MODEL_6b032b6313b247b3be0d8b510437d541",
            "_dom_classes": [],
            "description": "",
            "_model_name": "HTMLModel",
            "placeholder": "​",
            "_view_module": "@jupyter-widgets/controls",
            "_model_module_version": "1.5.0",
            "value": "Downloading: 100%",
            "_view_count": null,
            "_view_module_version": "1.5.0",
            "description_tooltip": null,
            "_model_module": "@jupyter-widgets/controls",
            "layout": "IPY_MODEL_769e7d3abd7f4d1795e05369a646f039"
          }
        },
        "a11c05a06ded449c8a8cc1b283f3c940": {
          "model_module": "@jupyter-widgets/controls",
          "model_name": "FloatProgressModel",
          "model_module_version": "1.5.0",
          "state": {
            "_view_name": "ProgressView",
            "style": "IPY_MODEL_13925a364e8b47e7ae942470594aeb66",
            "_dom_classes": [],
            "description": "",
            "_model_name": "FloatProgressModel",
            "bar_style": "success",
            "max": 251003,
            "_view_module": "@jupyter-widgets/controls",
            "_model_module_version": "1.5.0",
            "value": 251003,
            "_view_count": null,
            "_view_module_version": "1.5.0",
            "orientation": "horizontal",
            "min": 0,
            "description_tooltip": null,
            "_model_module": "@jupyter-widgets/controls",
            "layout": "IPY_MODEL_feaafae2852d4cffa29943fbd6c08382"
          }
        },
        "d186ae093041445183e2688504ac2ed0": {
          "model_module": "@jupyter-widgets/controls",
          "model_name": "HTMLModel",
          "model_module_version": "1.5.0",
          "state": {
            "_view_name": "HTMLView",
            "style": "IPY_MODEL_cb8b732f399142e098774a0b9db841a0",
            "_dom_classes": [],
            "description": "",
            "_model_name": "HTMLModel",
            "placeholder": "​",
            "_view_module": "@jupyter-widgets/controls",
            "_model_module_version": "1.5.0",
            "value": " 251k/251k [00:00&lt;00:00, 1.95MB/s]",
            "_view_count": null,
            "_view_module_version": "1.5.0",
            "description_tooltip": null,
            "_model_module": "@jupyter-widgets/controls",
            "layout": "IPY_MODEL_4896e2d681734678ac700dfc03a08667"
          }
        },
        "6b032b6313b247b3be0d8b510437d541": {
          "model_module": "@jupyter-widgets/controls",
          "model_name": "DescriptionStyleModel",
          "model_module_version": "1.5.0",
          "state": {
            "_view_name": "StyleView",
            "_model_name": "DescriptionStyleModel",
            "description_width": "",
            "_view_module": "@jupyter-widgets/base",
            "_model_module_version": "1.5.0",
            "_view_count": null,
            "_view_module_version": "1.2.0",
            "_model_module": "@jupyter-widgets/controls"
          }
        },
        "769e7d3abd7f4d1795e05369a646f039": {
          "model_module": "@jupyter-widgets/base",
          "model_name": "LayoutModel",
          "model_module_version": "1.2.0",
          "state": {
            "_view_name": "LayoutView",
            "grid_template_rows": null,
            "right": null,
            "justify_content": null,
            "_view_module": "@jupyter-widgets/base",
            "overflow": null,
            "_model_module_version": "1.2.0",
            "_view_count": null,
            "flex_flow": null,
            "width": null,
            "min_width": null,
            "border": null,
            "align_items": null,
            "bottom": null,
            "_model_module": "@jupyter-widgets/base",
            "top": null,
            "grid_column": null,
            "overflow_y": null,
            "overflow_x": null,
            "grid_auto_flow": null,
            "grid_area": null,
            "grid_template_columns": null,
            "flex": null,
            "_model_name": "LayoutModel",
            "justify_items": null,
            "grid_row": null,
            "max_height": null,
            "align_content": null,
            "visibility": null,
            "align_self": null,
            "height": null,
            "min_height": null,
            "padding": null,
            "grid_auto_rows": null,
            "grid_gap": null,
            "max_width": null,
            "order": null,
            "_view_module_version": "1.2.0",
            "grid_template_areas": null,
            "object_position": null,
            "object_fit": null,
            "grid_auto_columns": null,
            "margin": null,
            "display": null,
            "left": null
          }
        },
        "13925a364e8b47e7ae942470594aeb66": {
          "model_module": "@jupyter-widgets/controls",
          "model_name": "ProgressStyleModel",
          "model_module_version": "1.5.0",
          "state": {
            "_view_name": "StyleView",
            "_model_name": "ProgressStyleModel",
            "description_width": "",
            "_view_module": "@jupyter-widgets/base",
            "_model_module_version": "1.5.0",
            "_view_count": null,
            "_view_module_version": "1.2.0",
            "bar_color": null,
            "_model_module": "@jupyter-widgets/controls"
          }
        },
        "feaafae2852d4cffa29943fbd6c08382": {
          "model_module": "@jupyter-widgets/base",
          "model_name": "LayoutModel",
          "model_module_version": "1.2.0",
          "state": {
            "_view_name": "LayoutView",
            "grid_template_rows": null,
            "right": null,
            "justify_content": null,
            "_view_module": "@jupyter-widgets/base",
            "overflow": null,
            "_model_module_version": "1.2.0",
            "_view_count": null,
            "flex_flow": null,
            "width": null,
            "min_width": null,
            "border": null,
            "align_items": null,
            "bottom": null,
            "_model_module": "@jupyter-widgets/base",
            "top": null,
            "grid_column": null,
            "overflow_y": null,
            "overflow_x": null,
            "grid_auto_flow": null,
            "grid_area": null,
            "grid_template_columns": null,
            "flex": null,
            "_model_name": "LayoutModel",
            "justify_items": null,
            "grid_row": null,
            "max_height": null,
            "align_content": null,
            "visibility": null,
            "align_self": null,
            "height": null,
            "min_height": null,
            "padding": null,
            "grid_auto_rows": null,
            "grid_gap": null,
            "max_width": null,
            "order": null,
            "_view_module_version": "1.2.0",
            "grid_template_areas": null,
            "object_position": null,
            "object_fit": null,
            "grid_auto_columns": null,
            "margin": null,
            "display": null,
            "left": null
          }
        },
        "cb8b732f399142e098774a0b9db841a0": {
          "model_module": "@jupyter-widgets/controls",
          "model_name": "DescriptionStyleModel",
          "model_module_version": "1.5.0",
          "state": {
            "_view_name": "StyleView",
            "_model_name": "DescriptionStyleModel",
            "description_width": "",
            "_view_module": "@jupyter-widgets/base",
            "_model_module_version": "1.5.0",
            "_view_count": null,
            "_view_module_version": "1.2.0",
            "_model_module": "@jupyter-widgets/controls"
          }
        },
        "4896e2d681734678ac700dfc03a08667": {
          "model_module": "@jupyter-widgets/base",
          "model_name": "LayoutModel",
          "model_module_version": "1.2.0",
          "state": {
            "_view_name": "LayoutView",
            "grid_template_rows": null,
            "right": null,
            "justify_content": null,
            "_view_module": "@jupyter-widgets/base",
            "overflow": null,
            "_model_module_version": "1.2.0",
            "_view_count": null,
            "flex_flow": null,
            "width": null,
            "min_width": null,
            "border": null,
            "align_items": null,
            "bottom": null,
            "_model_module": "@jupyter-widgets/base",
            "top": null,
            "grid_column": null,
            "overflow_y": null,
            "overflow_x": null,
            "grid_auto_flow": null,
            "grid_area": null,
            "grid_template_columns": null,
            "flex": null,
            "_model_name": "LayoutModel",
            "justify_items": null,
            "grid_row": null,
            "max_height": null,
            "align_content": null,
            "visibility": null,
            "align_self": null,
            "height": null,
            "min_height": null,
            "padding": null,
            "grid_auto_rows": null,
            "grid_gap": null,
            "max_width": null,
            "order": null,
            "_view_module_version": "1.2.0",
            "grid_template_areas": null,
            "object_position": null,
            "object_fit": null,
            "grid_auto_columns": null,
            "margin": null,
            "display": null,
            "left": null
          }
        },
        "5ce10c8ce2f04143b03314e80177a957": {
          "model_module": "@jupyter-widgets/controls",
          "model_name": "HBoxModel",
          "model_module_version": "1.5.0",
          "state": {
            "_view_name": "HBoxView",
            "_dom_classes": [],
            "_model_name": "HBoxModel",
            "_view_module": "@jupyter-widgets/controls",
            "_model_module_version": "1.5.0",
            "_view_count": null,
            "_view_module_version": "1.5.0",
            "box_style": "",
            "layout": "IPY_MODEL_7c1a91249af74ca6a2bf2f8a23db611b",
            "_model_module": "@jupyter-widgets/controls",
            "children": [
              "IPY_MODEL_95b3408152f5436a87b36004e91fee32",
              "IPY_MODEL_a073dd8f6aa54c16ac45f0412cbbdbdd",
              "IPY_MODEL_a0437b573d054392974e16b1eaffedef"
            ]
          }
        },
        "7c1a91249af74ca6a2bf2f8a23db611b": {
          "model_module": "@jupyter-widgets/base",
          "model_name": "LayoutModel",
          "model_module_version": "1.2.0",
          "state": {
            "_view_name": "LayoutView",
            "grid_template_rows": null,
            "right": null,
            "justify_content": null,
            "_view_module": "@jupyter-widgets/base",
            "overflow": null,
            "_model_module_version": "1.2.0",
            "_view_count": null,
            "flex_flow": null,
            "width": null,
            "min_width": null,
            "border": null,
            "align_items": null,
            "bottom": null,
            "_model_module": "@jupyter-widgets/base",
            "top": null,
            "grid_column": null,
            "overflow_y": null,
            "overflow_x": null,
            "grid_auto_flow": null,
            "grid_area": null,
            "grid_template_columns": null,
            "flex": null,
            "_model_name": "LayoutModel",
            "justify_items": null,
            "grid_row": null,
            "max_height": null,
            "align_content": null,
            "visibility": null,
            "align_self": null,
            "height": null,
            "min_height": null,
            "padding": null,
            "grid_auto_rows": null,
            "grid_gap": null,
            "max_width": null,
            "order": null,
            "_view_module_version": "1.2.0",
            "grid_template_areas": null,
            "object_position": null,
            "object_fit": null,
            "grid_auto_columns": null,
            "margin": null,
            "display": null,
            "left": null
          }
        },
        "95b3408152f5436a87b36004e91fee32": {
          "model_module": "@jupyter-widgets/controls",
          "model_name": "HTMLModel",
          "model_module_version": "1.5.0",
          "state": {
            "_view_name": "HTMLView",
            "style": "IPY_MODEL_81b68fe5494c4bd9b4265cd7749bcd56",
            "_dom_classes": [],
            "description": "",
            "_model_name": "HTMLModel",
            "placeholder": "​",
            "_view_module": "@jupyter-widgets/controls",
            "_model_module_version": "1.5.0",
            "value": "Downloading: 100%",
            "_view_count": null,
            "_view_module_version": "1.5.0",
            "description_tooltip": null,
            "_model_module": "@jupyter-widgets/controls",
            "layout": "IPY_MODEL_4ed9654f780d4271b55230a522cf510c"
          }
        },
        "a073dd8f6aa54c16ac45f0412cbbdbdd": {
          "model_module": "@jupyter-widgets/controls",
          "model_name": "FloatProgressModel",
          "model_module_version": "1.5.0",
          "state": {
            "_view_name": "ProgressView",
            "style": "IPY_MODEL_06ab783219ac45b89bcae8f877c5f0af",
            "_dom_classes": [],
            "description": "",
            "_model_name": "FloatProgressModel",
            "bar_style": "success",
            "max": 60,
            "_view_module": "@jupyter-widgets/controls",
            "_model_module_version": "1.5.0",
            "value": 60,
            "_view_count": null,
            "_view_module_version": "1.5.0",
            "orientation": "horizontal",
            "min": 0,
            "description_tooltip": null,
            "_model_module": "@jupyter-widgets/controls",
            "layout": "IPY_MODEL_a56fc508baaf454380490e675b2bffab"
          }
        },
        "a0437b573d054392974e16b1eaffedef": {
          "model_module": "@jupyter-widgets/controls",
          "model_name": "HTMLModel",
          "model_module_version": "1.5.0",
          "state": {
            "_view_name": "HTMLView",
            "style": "IPY_MODEL_81956b8847724a8183b8c4c6dc315c99",
            "_dom_classes": [],
            "description": "",
            "_model_name": "HTMLModel",
            "placeholder": "​",
            "_view_module": "@jupyter-widgets/controls",
            "_model_module_version": "1.5.0",
            "value": " 60.0/60.0 [00:00&lt;00:00, 1.80kB/s]",
            "_view_count": null,
            "_view_module_version": "1.5.0",
            "description_tooltip": null,
            "_model_module": "@jupyter-widgets/controls",
            "layout": "IPY_MODEL_4585becf49ab42f586c324de104a8f31"
          }
        },
        "81b68fe5494c4bd9b4265cd7749bcd56": {
          "model_module": "@jupyter-widgets/controls",
          "model_name": "DescriptionStyleModel",
          "model_module_version": "1.5.0",
          "state": {
            "_view_name": "StyleView",
            "_model_name": "DescriptionStyleModel",
            "description_width": "",
            "_view_module": "@jupyter-widgets/base",
            "_model_module_version": "1.5.0",
            "_view_count": null,
            "_view_module_version": "1.2.0",
            "_model_module": "@jupyter-widgets/controls"
          }
        },
        "4ed9654f780d4271b55230a522cf510c": {
          "model_module": "@jupyter-widgets/base",
          "model_name": "LayoutModel",
          "model_module_version": "1.2.0",
          "state": {
            "_view_name": "LayoutView",
            "grid_template_rows": null,
            "right": null,
            "justify_content": null,
            "_view_module": "@jupyter-widgets/base",
            "overflow": null,
            "_model_module_version": "1.2.0",
            "_view_count": null,
            "flex_flow": null,
            "width": null,
            "min_width": null,
            "border": null,
            "align_items": null,
            "bottom": null,
            "_model_module": "@jupyter-widgets/base",
            "top": null,
            "grid_column": null,
            "overflow_y": null,
            "overflow_x": null,
            "grid_auto_flow": null,
            "grid_area": null,
            "grid_template_columns": null,
            "flex": null,
            "_model_name": "LayoutModel",
            "justify_items": null,
            "grid_row": null,
            "max_height": null,
            "align_content": null,
            "visibility": null,
            "align_self": null,
            "height": null,
            "min_height": null,
            "padding": null,
            "grid_auto_rows": null,
            "grid_gap": null,
            "max_width": null,
            "order": null,
            "_view_module_version": "1.2.0",
            "grid_template_areas": null,
            "object_position": null,
            "object_fit": null,
            "grid_auto_columns": null,
            "margin": null,
            "display": null,
            "left": null
          }
        },
        "06ab783219ac45b89bcae8f877c5f0af": {
          "model_module": "@jupyter-widgets/controls",
          "model_name": "ProgressStyleModel",
          "model_module_version": "1.5.0",
          "state": {
            "_view_name": "StyleView",
            "_model_name": "ProgressStyleModel",
            "description_width": "",
            "_view_module": "@jupyter-widgets/base",
            "_model_module_version": "1.5.0",
            "_view_count": null,
            "_view_module_version": "1.2.0",
            "bar_color": null,
            "_model_module": "@jupyter-widgets/controls"
          }
        },
        "a56fc508baaf454380490e675b2bffab": {
          "model_module": "@jupyter-widgets/base",
          "model_name": "LayoutModel",
          "model_module_version": "1.2.0",
          "state": {
            "_view_name": "LayoutView",
            "grid_template_rows": null,
            "right": null,
            "justify_content": null,
            "_view_module": "@jupyter-widgets/base",
            "overflow": null,
            "_model_module_version": "1.2.0",
            "_view_count": null,
            "flex_flow": null,
            "width": null,
            "min_width": null,
            "border": null,
            "align_items": null,
            "bottom": null,
            "_model_module": "@jupyter-widgets/base",
            "top": null,
            "grid_column": null,
            "overflow_y": null,
            "overflow_x": null,
            "grid_auto_flow": null,
            "grid_area": null,
            "grid_template_columns": null,
            "flex": null,
            "_model_name": "LayoutModel",
            "justify_items": null,
            "grid_row": null,
            "max_height": null,
            "align_content": null,
            "visibility": null,
            "align_self": null,
            "height": null,
            "min_height": null,
            "padding": null,
            "grid_auto_rows": null,
            "grid_gap": null,
            "max_width": null,
            "order": null,
            "_view_module_version": "1.2.0",
            "grid_template_areas": null,
            "object_position": null,
            "object_fit": null,
            "grid_auto_columns": null,
            "margin": null,
            "display": null,
            "left": null
          }
        },
        "81956b8847724a8183b8c4c6dc315c99": {
          "model_module": "@jupyter-widgets/controls",
          "model_name": "DescriptionStyleModel",
          "model_module_version": "1.5.0",
          "state": {
            "_view_name": "StyleView",
            "_model_name": "DescriptionStyleModel",
            "description_width": "",
            "_view_module": "@jupyter-widgets/base",
            "_model_module_version": "1.5.0",
            "_view_count": null,
            "_view_module_version": "1.2.0",
            "_model_module": "@jupyter-widgets/controls"
          }
        },
        "4585becf49ab42f586c324de104a8f31": {
          "model_module": "@jupyter-widgets/base",
          "model_name": "LayoutModel",
          "model_module_version": "1.2.0",
          "state": {
            "_view_name": "LayoutView",
            "grid_template_rows": null,
            "right": null,
            "justify_content": null,
            "_view_module": "@jupyter-widgets/base",
            "overflow": null,
            "_model_module_version": "1.2.0",
            "_view_count": null,
            "flex_flow": null,
            "width": null,
            "min_width": null,
            "border": null,
            "align_items": null,
            "bottom": null,
            "_model_module": "@jupyter-widgets/base",
            "top": null,
            "grid_column": null,
            "overflow_y": null,
            "overflow_x": null,
            "grid_auto_flow": null,
            "grid_area": null,
            "grid_template_columns": null,
            "flex": null,
            "_model_name": "LayoutModel",
            "justify_items": null,
            "grid_row": null,
            "max_height": null,
            "align_content": null,
            "visibility": null,
            "align_self": null,
            "height": null,
            "min_height": null,
            "padding": null,
            "grid_auto_rows": null,
            "grid_gap": null,
            "max_width": null,
            "order": null,
            "_view_module_version": "1.2.0",
            "grid_template_areas": null,
            "object_position": null,
            "object_fit": null,
            "grid_auto_columns": null,
            "margin": null,
            "display": null,
            "left": null
          }
        },
        "1a78e85383c64901bbe0e7a4128b37bd": {
          "model_module": "@jupyter-widgets/controls",
          "model_name": "HBoxModel",
          "model_module_version": "1.5.0",
          "state": {
            "_view_name": "HBoxView",
            "_dom_classes": [],
            "_model_name": "HBoxModel",
            "_view_module": "@jupyter-widgets/controls",
            "_model_module_version": "1.5.0",
            "_view_count": null,
            "_view_module_version": "1.5.0",
            "box_style": "",
            "layout": "IPY_MODEL_3c64a419dcee4b56b5f40a030d71e918",
            "_model_module": "@jupyter-widgets/controls",
            "children": [
              "IPY_MODEL_c589613a91e649719a06061a7605aeb8",
              "IPY_MODEL_8b07254e4f2e4c4cba0059d4868b6725",
              "IPY_MODEL_5c02178cd0cd40c48bfa9ccf9f3a6787"
            ]
          }
        },
        "3c64a419dcee4b56b5f40a030d71e918": {
          "model_module": "@jupyter-widgets/base",
          "model_name": "LayoutModel",
          "model_module_version": "1.2.0",
          "state": {
            "_view_name": "LayoutView",
            "grid_template_rows": null,
            "right": null,
            "justify_content": null,
            "_view_module": "@jupyter-widgets/base",
            "overflow": null,
            "_model_module_version": "1.2.0",
            "_view_count": null,
            "flex_flow": null,
            "width": null,
            "min_width": null,
            "border": null,
            "align_items": null,
            "bottom": null,
            "_model_module": "@jupyter-widgets/base",
            "top": null,
            "grid_column": null,
            "overflow_y": null,
            "overflow_x": null,
            "grid_auto_flow": null,
            "grid_area": null,
            "grid_template_columns": null,
            "flex": null,
            "_model_name": "LayoutModel",
            "justify_items": null,
            "grid_row": null,
            "max_height": null,
            "align_content": null,
            "visibility": null,
            "align_self": null,
            "height": null,
            "min_height": null,
            "padding": null,
            "grid_auto_rows": null,
            "grid_gap": null,
            "max_width": null,
            "order": null,
            "_view_module_version": "1.2.0",
            "grid_template_areas": null,
            "object_position": null,
            "object_fit": null,
            "grid_auto_columns": null,
            "margin": null,
            "display": null,
            "left": null
          }
        },
        "c589613a91e649719a06061a7605aeb8": {
          "model_module": "@jupyter-widgets/controls",
          "model_name": "HTMLModel",
          "model_module_version": "1.5.0",
          "state": {
            "_view_name": "HTMLView",
            "style": "IPY_MODEL_7b0725c793414fcbbc36d6fd09ce5fd3",
            "_dom_classes": [],
            "description": "",
            "_model_name": "HTMLModel",
            "placeholder": "​",
            "_view_module": "@jupyter-widgets/controls",
            "_model_module_version": "1.5.0",
            "value": "Downloading: 100%",
            "_view_count": null,
            "_view_module_version": "1.5.0",
            "description_tooltip": null,
            "_model_module": "@jupyter-widgets/controls",
            "layout": "IPY_MODEL_0178c854736c405e988b1394294ba12f"
          }
        },
        "8b07254e4f2e4c4cba0059d4868b6725": {
          "model_module": "@jupyter-widgets/controls",
          "model_name": "FloatProgressModel",
          "model_module_version": "1.5.0",
          "state": {
            "_view_name": "ProgressView",
            "style": "IPY_MODEL_6e104d70e0484d61a3c62ab1955bc111",
            "_dom_classes": [],
            "description": "",
            "_model_name": "FloatProgressModel",
            "bar_style": "success",
            "max": 385,
            "_view_module": "@jupyter-widgets/controls",
            "_model_module_version": "1.5.0",
            "value": 385,
            "_view_count": null,
            "_view_module_version": "1.5.0",
            "orientation": "horizontal",
            "min": 0,
            "description_tooltip": null,
            "_model_module": "@jupyter-widgets/controls",
            "layout": "IPY_MODEL_b769747b8cd44053b2ec417763aee402"
          }
        },
        "5c02178cd0cd40c48bfa9ccf9f3a6787": {
          "model_module": "@jupyter-widgets/controls",
          "model_name": "HTMLModel",
          "model_module_version": "1.5.0",
          "state": {
            "_view_name": "HTMLView",
            "style": "IPY_MODEL_118d493d318e43848ccf82c19934bd0f",
            "_dom_classes": [],
            "description": "",
            "_model_name": "HTMLModel",
            "placeholder": "​",
            "_view_module": "@jupyter-widgets/controls",
            "_model_module_version": "1.5.0",
            "value": " 385/385 [00:00&lt;00:00, 10.3kB/s]",
            "_view_count": null,
            "_view_module_version": "1.5.0",
            "description_tooltip": null,
            "_model_module": "@jupyter-widgets/controls",
            "layout": "IPY_MODEL_2a6b472a60ee48cb96abc540c7cf9b29"
          }
        },
        "7b0725c793414fcbbc36d6fd09ce5fd3": {
          "model_module": "@jupyter-widgets/controls",
          "model_name": "DescriptionStyleModel",
          "model_module_version": "1.5.0",
          "state": {
            "_view_name": "StyleView",
            "_model_name": "DescriptionStyleModel",
            "description_width": "",
            "_view_module": "@jupyter-widgets/base",
            "_model_module_version": "1.5.0",
            "_view_count": null,
            "_view_module_version": "1.2.0",
            "_model_module": "@jupyter-widgets/controls"
          }
        },
        "0178c854736c405e988b1394294ba12f": {
          "model_module": "@jupyter-widgets/base",
          "model_name": "LayoutModel",
          "model_module_version": "1.2.0",
          "state": {
            "_view_name": "LayoutView",
            "grid_template_rows": null,
            "right": null,
            "justify_content": null,
            "_view_module": "@jupyter-widgets/base",
            "overflow": null,
            "_model_module_version": "1.2.0",
            "_view_count": null,
            "flex_flow": null,
            "width": null,
            "min_width": null,
            "border": null,
            "align_items": null,
            "bottom": null,
            "_model_module": "@jupyter-widgets/base",
            "top": null,
            "grid_column": null,
            "overflow_y": null,
            "overflow_x": null,
            "grid_auto_flow": null,
            "grid_area": null,
            "grid_template_columns": null,
            "flex": null,
            "_model_name": "LayoutModel",
            "justify_items": null,
            "grid_row": null,
            "max_height": null,
            "align_content": null,
            "visibility": null,
            "align_self": null,
            "height": null,
            "min_height": null,
            "padding": null,
            "grid_auto_rows": null,
            "grid_gap": null,
            "max_width": null,
            "order": null,
            "_view_module_version": "1.2.0",
            "grid_template_areas": null,
            "object_position": null,
            "object_fit": null,
            "grid_auto_columns": null,
            "margin": null,
            "display": null,
            "left": null
          }
        },
        "6e104d70e0484d61a3c62ab1955bc111": {
          "model_module": "@jupyter-widgets/controls",
          "model_name": "ProgressStyleModel",
          "model_module_version": "1.5.0",
          "state": {
            "_view_name": "StyleView",
            "_model_name": "ProgressStyleModel",
            "description_width": "",
            "_view_module": "@jupyter-widgets/base",
            "_model_module_version": "1.5.0",
            "_view_count": null,
            "_view_module_version": "1.2.0",
            "bar_color": null,
            "_model_module": "@jupyter-widgets/controls"
          }
        },
        "b769747b8cd44053b2ec417763aee402": {
          "model_module": "@jupyter-widgets/base",
          "model_name": "LayoutModel",
          "model_module_version": "1.2.0",
          "state": {
            "_view_name": "LayoutView",
            "grid_template_rows": null,
            "right": null,
            "justify_content": null,
            "_view_module": "@jupyter-widgets/base",
            "overflow": null,
            "_model_module_version": "1.2.0",
            "_view_count": null,
            "flex_flow": null,
            "width": null,
            "min_width": null,
            "border": null,
            "align_items": null,
            "bottom": null,
            "_model_module": "@jupyter-widgets/base",
            "top": null,
            "grid_column": null,
            "overflow_y": null,
            "overflow_x": null,
            "grid_auto_flow": null,
            "grid_area": null,
            "grid_template_columns": null,
            "flex": null,
            "_model_name": "LayoutModel",
            "justify_items": null,
            "grid_row": null,
            "max_height": null,
            "align_content": null,
            "visibility": null,
            "align_self": null,
            "height": null,
            "min_height": null,
            "padding": null,
            "grid_auto_rows": null,
            "grid_gap": null,
            "max_width": null,
            "order": null,
            "_view_module_version": "1.2.0",
            "grid_template_areas": null,
            "object_position": null,
            "object_fit": null,
            "grid_auto_columns": null,
            "margin": null,
            "display": null,
            "left": null
          }
        },
        "118d493d318e43848ccf82c19934bd0f": {
          "model_module": "@jupyter-widgets/controls",
          "model_name": "DescriptionStyleModel",
          "model_module_version": "1.5.0",
          "state": {
            "_view_name": "StyleView",
            "_model_name": "DescriptionStyleModel",
            "description_width": "",
            "_view_module": "@jupyter-widgets/base",
            "_model_module_version": "1.5.0",
            "_view_count": null,
            "_view_module_version": "1.2.0",
            "_model_module": "@jupyter-widgets/controls"
          }
        },
        "2a6b472a60ee48cb96abc540c7cf9b29": {
          "model_module": "@jupyter-widgets/base",
          "model_name": "LayoutModel",
          "model_module_version": "1.2.0",
          "state": {
            "_view_name": "LayoutView",
            "grid_template_rows": null,
            "right": null,
            "justify_content": null,
            "_view_module": "@jupyter-widgets/base",
            "overflow": null,
            "_model_module_version": "1.2.0",
            "_view_count": null,
            "flex_flow": null,
            "width": null,
            "min_width": null,
            "border": null,
            "align_items": null,
            "bottom": null,
            "_model_module": "@jupyter-widgets/base",
            "top": null,
            "grid_column": null,
            "overflow_y": null,
            "overflow_x": null,
            "grid_auto_flow": null,
            "grid_area": null,
            "grid_template_columns": null,
            "flex": null,
            "_model_name": "LayoutModel",
            "justify_items": null,
            "grid_row": null,
            "max_height": null,
            "align_content": null,
            "visibility": null,
            "align_self": null,
            "height": null,
            "min_height": null,
            "padding": null,
            "grid_auto_rows": null,
            "grid_gap": null,
            "max_width": null,
            "order": null,
            "_view_module_version": "1.2.0",
            "grid_template_areas": null,
            "object_position": null,
            "object_fit": null,
            "grid_auto_columns": null,
            "margin": null,
            "display": null,
            "left": null
          }
        },
        "8cb8b8bcdb69402db058a66af8465587": {
          "model_module": "@jupyter-widgets/controls",
          "model_name": "HBoxModel",
          "model_module_version": "1.5.0",
          "state": {
            "_view_name": "HBoxView",
            "_dom_classes": [],
            "_model_name": "HBoxModel",
            "_view_module": "@jupyter-widgets/controls",
            "_model_module_version": "1.5.0",
            "_view_count": null,
            "_view_module_version": "1.5.0",
            "box_style": "",
            "layout": "IPY_MODEL_1233c1da32ba4a4d912c8534608b2bf0",
            "_model_module": "@jupyter-widgets/controls",
            "children": [
              "IPY_MODEL_7b6ce707c4d043df80e618e8f8ea932f",
              "IPY_MODEL_72d4b14550d143d2924b50052c4c3504",
              "IPY_MODEL_e1130b481ad343a48bfdfc4a1f600555"
            ]
          }
        },
        "1233c1da32ba4a4d912c8534608b2bf0": {
          "model_module": "@jupyter-widgets/base",
          "model_name": "LayoutModel",
          "model_module_version": "1.2.0",
          "state": {
            "_view_name": "LayoutView",
            "grid_template_rows": null,
            "right": null,
            "justify_content": null,
            "_view_module": "@jupyter-widgets/base",
            "overflow": null,
            "_model_module_version": "1.2.0",
            "_view_count": null,
            "flex_flow": null,
            "width": null,
            "min_width": null,
            "border": null,
            "align_items": null,
            "bottom": null,
            "_model_module": "@jupyter-widgets/base",
            "top": null,
            "grid_column": null,
            "overflow_y": null,
            "overflow_x": null,
            "grid_auto_flow": null,
            "grid_area": null,
            "grid_template_columns": null,
            "flex": null,
            "_model_name": "LayoutModel",
            "justify_items": null,
            "grid_row": null,
            "max_height": null,
            "align_content": null,
            "visibility": null,
            "align_self": null,
            "height": null,
            "min_height": null,
            "padding": null,
            "grid_auto_rows": null,
            "grid_gap": null,
            "max_width": null,
            "order": null,
            "_view_module_version": "1.2.0",
            "grid_template_areas": null,
            "object_position": null,
            "object_fit": null,
            "grid_auto_columns": null,
            "margin": null,
            "display": null,
            "left": null
          }
        },
        "7b6ce707c4d043df80e618e8f8ea932f": {
          "model_module": "@jupyter-widgets/controls",
          "model_name": "HTMLModel",
          "model_module_version": "1.5.0",
          "state": {
            "_view_name": "HTMLView",
            "style": "IPY_MODEL_441a8e93eab94595bd19aafc1836ca94",
            "_dom_classes": [],
            "description": "",
            "_model_name": "HTMLModel",
            "placeholder": "​",
            "_view_module": "@jupyter-widgets/controls",
            "_model_module_version": "1.5.0",
            "value": "Downloading: 100%",
            "_view_count": null,
            "_view_module_version": "1.5.0",
            "description_tooltip": null,
            "_model_module": "@jupyter-widgets/controls",
            "layout": "IPY_MODEL_2af4ebdf2d314a84a45cf531b872ccfd"
          }
        },
        "72d4b14550d143d2924b50052c4c3504": {
          "model_module": "@jupyter-widgets/controls",
          "model_name": "FloatProgressModel",
          "model_module_version": "1.5.0",
          "state": {
            "_view_name": "ProgressView",
            "style": "IPY_MODEL_b139bd34638241d9b00a8dfc34b21ba4",
            "_dom_classes": [],
            "description": "",
            "_model_name": "FloatProgressModel",
            "bar_style": "success",
            "max": 445018508,
            "_view_module": "@jupyter-widgets/controls",
            "_model_module_version": "1.5.0",
            "value": 445018508,
            "_view_count": null,
            "_view_module_version": "1.5.0",
            "orientation": "horizontal",
            "min": 0,
            "description_tooltip": null,
            "_model_module": "@jupyter-widgets/controls",
            "layout": "IPY_MODEL_cc4fc7ead9704752a536a73f40a3cf6b"
          }
        },
        "e1130b481ad343a48bfdfc4a1f600555": {
          "model_module": "@jupyter-widgets/controls",
          "model_name": "HTMLModel",
          "model_module_version": "1.5.0",
          "state": {
            "_view_name": "HTMLView",
            "style": "IPY_MODEL_e81bc6b35f414d0c85d5a667df013422",
            "_dom_classes": [],
            "description": "",
            "_model_name": "HTMLModel",
            "placeholder": "​",
            "_view_module": "@jupyter-widgets/controls",
            "_model_module_version": "1.5.0",
            "value": " 445M/445M [00:08&lt;00:00, 50.9MB/s]",
            "_view_count": null,
            "_view_module_version": "1.5.0",
            "description_tooltip": null,
            "_model_module": "@jupyter-widgets/controls",
            "layout": "IPY_MODEL_966eadaedd954fee879c58dad998cea3"
          }
        },
        "441a8e93eab94595bd19aafc1836ca94": {
          "model_module": "@jupyter-widgets/controls",
          "model_name": "DescriptionStyleModel",
          "model_module_version": "1.5.0",
          "state": {
            "_view_name": "StyleView",
            "_model_name": "DescriptionStyleModel",
            "description_width": "",
            "_view_module": "@jupyter-widgets/base",
            "_model_module_version": "1.5.0",
            "_view_count": null,
            "_view_module_version": "1.2.0",
            "_model_module": "@jupyter-widgets/controls"
          }
        },
        "2af4ebdf2d314a84a45cf531b872ccfd": {
          "model_module": "@jupyter-widgets/base",
          "model_name": "LayoutModel",
          "model_module_version": "1.2.0",
          "state": {
            "_view_name": "LayoutView",
            "grid_template_rows": null,
            "right": null,
            "justify_content": null,
            "_view_module": "@jupyter-widgets/base",
            "overflow": null,
            "_model_module_version": "1.2.0",
            "_view_count": null,
            "flex_flow": null,
            "width": null,
            "min_width": null,
            "border": null,
            "align_items": null,
            "bottom": null,
            "_model_module": "@jupyter-widgets/base",
            "top": null,
            "grid_column": null,
            "overflow_y": null,
            "overflow_x": null,
            "grid_auto_flow": null,
            "grid_area": null,
            "grid_template_columns": null,
            "flex": null,
            "_model_name": "LayoutModel",
            "justify_items": null,
            "grid_row": null,
            "max_height": null,
            "align_content": null,
            "visibility": null,
            "align_self": null,
            "height": null,
            "min_height": null,
            "padding": null,
            "grid_auto_rows": null,
            "grid_gap": null,
            "max_width": null,
            "order": null,
            "_view_module_version": "1.2.0",
            "grid_template_areas": null,
            "object_position": null,
            "object_fit": null,
            "grid_auto_columns": null,
            "margin": null,
            "display": null,
            "left": null
          }
        },
        "b139bd34638241d9b00a8dfc34b21ba4": {
          "model_module": "@jupyter-widgets/controls",
          "model_name": "ProgressStyleModel",
          "model_module_version": "1.5.0",
          "state": {
            "_view_name": "StyleView",
            "_model_name": "ProgressStyleModel",
            "description_width": "",
            "_view_module": "@jupyter-widgets/base",
            "_model_module_version": "1.5.0",
            "_view_count": null,
            "_view_module_version": "1.2.0",
            "bar_color": null,
            "_model_module": "@jupyter-widgets/controls"
          }
        },
        "cc4fc7ead9704752a536a73f40a3cf6b": {
          "model_module": "@jupyter-widgets/base",
          "model_name": "LayoutModel",
          "model_module_version": "1.2.0",
          "state": {
            "_view_name": "LayoutView",
            "grid_template_rows": null,
            "right": null,
            "justify_content": null,
            "_view_module": "@jupyter-widgets/base",
            "overflow": null,
            "_model_module_version": "1.2.0",
            "_view_count": null,
            "flex_flow": null,
            "width": null,
            "min_width": null,
            "border": null,
            "align_items": null,
            "bottom": null,
            "_model_module": "@jupyter-widgets/base",
            "top": null,
            "grid_column": null,
            "overflow_y": null,
            "overflow_x": null,
            "grid_auto_flow": null,
            "grid_area": null,
            "grid_template_columns": null,
            "flex": null,
            "_model_name": "LayoutModel",
            "justify_items": null,
            "grid_row": null,
            "max_height": null,
            "align_content": null,
            "visibility": null,
            "align_self": null,
            "height": null,
            "min_height": null,
            "padding": null,
            "grid_auto_rows": null,
            "grid_gap": null,
            "max_width": null,
            "order": null,
            "_view_module_version": "1.2.0",
            "grid_template_areas": null,
            "object_position": null,
            "object_fit": null,
            "grid_auto_columns": null,
            "margin": null,
            "display": null,
            "left": null
          }
        },
        "e81bc6b35f414d0c85d5a667df013422": {
          "model_module": "@jupyter-widgets/controls",
          "model_name": "DescriptionStyleModel",
          "model_module_version": "1.5.0",
          "state": {
            "_view_name": "StyleView",
            "_model_name": "DescriptionStyleModel",
            "description_width": "",
            "_view_module": "@jupyter-widgets/base",
            "_model_module_version": "1.5.0",
            "_view_count": null,
            "_view_module_version": "1.2.0",
            "_model_module": "@jupyter-widgets/controls"
          }
        },
        "966eadaedd954fee879c58dad998cea3": {
          "model_module": "@jupyter-widgets/base",
          "model_name": "LayoutModel",
          "model_module_version": "1.2.0",
          "state": {
            "_view_name": "LayoutView",
            "grid_template_rows": null,
            "right": null,
            "justify_content": null,
            "_view_module": "@jupyter-widgets/base",
            "overflow": null,
            "_model_module_version": "1.2.0",
            "_view_count": null,
            "flex_flow": null,
            "width": null,
            "min_width": null,
            "border": null,
            "align_items": null,
            "bottom": null,
            "_model_module": "@jupyter-widgets/base",
            "top": null,
            "grid_column": null,
            "overflow_y": null,
            "overflow_x": null,
            "grid_auto_flow": null,
            "grid_area": null,
            "grid_template_columns": null,
            "flex": null,
            "_model_name": "LayoutModel",
            "justify_items": null,
            "grid_row": null,
            "max_height": null,
            "align_content": null,
            "visibility": null,
            "align_self": null,
            "height": null,
            "min_height": null,
            "padding": null,
            "grid_auto_rows": null,
            "grid_gap": null,
            "max_width": null,
            "order": null,
            "_view_module_version": "1.2.0",
            "grid_template_areas": null,
            "object_position": null,
            "object_fit": null,
            "grid_auto_columns": null,
            "margin": null,
            "display": null,
            "left": null
          }
        }
      }
    }
  },
  "nbformat": 4,
  "nbformat_minor": 0
}